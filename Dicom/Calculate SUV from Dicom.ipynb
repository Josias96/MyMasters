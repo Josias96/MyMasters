{
 "cells": [
  {
   "cell_type": "markdown",
   "metadata": {},
   "source": [
    "# Calculate SUV from DICOM\n",
    "### JA Engelbrecht"
   ]
  },
  {
   "cell_type": "code",
   "execution_count": 1,
   "metadata": {},
   "outputs": [],
   "source": [
    "from pathlib import Path\n",
    "import SimpleITK as sitk\n",
    "import numpy as np\n",
    "import sys\n",
    "import os\n",
    "from pydicom import dcmread\n",
    "from pydicom.data import get_testdata_file\n",
    "\n",
    "def StrToSec(string):\n",
    "    hours = int(string[0:2])\n",
    "    minutes = int(string[2:4])\n",
    "    seconds = float(string[4:12])\n",
    "    totalSec = hours*3600 + minutes*60 + seconds\n",
    "    return totalSec"
   ]
  },
  {
   "cell_type": "markdown",
   "metadata": {},
   "source": [
    "#### Initialise Readers"
   ]
  },
  {
   "cell_type": "code",
   "execution_count": 2,
   "metadata": {},
   "outputs": [],
   "source": [
    "reader = sitk.ImageSeriesReader()\n",
    "file_reader = sitk.ImageFileReader()"
   ]
  },
  {
   "cell_type": "markdown",
   "metadata": {},
   "source": [
    "#### Scan Path"
   ]
  },
  {
   "cell_type": "code",
   "execution_count": 3,
   "metadata": {},
   "outputs": [],
   "source": [
    "path = 'E:\\\\All Biomarker Dicoms_jamdre\\\\S13\\\\1\\\\3_PET WB'"
   ]
  },
  {
   "cell_type": "code",
   "execution_count": 4,
   "metadata": {},
   "outputs": [
    {
     "name": "stdout",
     "output_type": "stream",
     "text": [
      "('1.3.12.2.1107.5.1.4.48568.30000010110506254140600000094', '1.3.12.2.1107.5.1.4.48568.30000011031805533554600000094')\n"
     ]
    }
   ],
   "source": [
    "dicom_names = reader.GetGDCMSeriesIDs(path)\n",
    "print(dicom_names)"
   ]
  },
  {
   "cell_type": "code",
   "execution_count": 5,
   "metadata": {},
   "outputs": [],
   "source": [
    "files = reader.GetGDCMSeriesFileNames(path,dicom_names[0])\n",
    "files = files[::-1]# Resort from big to small\n",
    "ds = dcmread(files[0])"
   ]
  },
  {
   "cell_type": "code",
   "execution_count": 6,
   "metadata": {
    "scrolled": true
   },
   "outputs": [
    {
     "data": {
      "text/plain": [
       "Dataset.file_meta -------------------------------\n",
       "(0002, 0000) File Meta Information Group Length  UL: 202\n",
       "(0002, 0001) File Meta Information Version       OB: b'\\x00\\x01'\n",
       "(0002, 0002) Media Storage SOP Class UID         UI: Positron Emission Tomography Image Storage\n",
       "(0002, 0003) Media Storage SOP Instance UID      UI: 1.3.12.2.1107.5.1.4.48568.30000010110506254140600000095\n",
       "(0002, 0010) Transfer Syntax UID                 UI: Explicit VR Little Endian\n",
       "(0002, 0012) Implementation Class UID            UI: 1.2.276.0.7230010.3.0.3.5.4\n",
       "(0002, 0013) Implementation Version Name         SH: 'OFFIS_DCMTK_354'\n",
       "-------------------------------------------------\n",
       "(0008, 0005) Specific Character Set              CS: 'ISO_IR 100'\n",
       "(0008, 0008) Image Type                          CS: ['ORIGINAL', 'PRIMARY']\n",
       "(0008, 0016) SOP Class UID                       UI: Positron Emission Tomography Image Storage\n",
       "(0008, 0018) SOP Instance UID                    UI: 1.3.12.2.1107.5.1.4.48568.30000010110506254140600000095\n",
       "(0008, 0020) Study Date                          DA: '20101105'\n",
       "(0008, 0021) Series Date                         DA: '20101105'\n",
       "(0008, 0022) Acquisition Date                    DA: '20101105'\n",
       "(0008, 0023) Content Date                        DA: '20101105'\n",
       "(0008, 0030) Study Time                          TM: '135825.031000'\n",
       "(0008, 0031) Series Time                         TM: '140217.921000'\n",
       "(0008, 0032) Acquisition Time                    TM: '140825.203000'\n",
       "(0008, 0033) Content Time                        TM: '141230.000000'\n",
       "(0008, 0050) Accession Number                    SH: 'PTG002882'\n",
       "(0008, 0060) Modality                            CS: 'PT'\n",
       "(0008, 0070) Manufacturer                        LO: 'CPS'\n",
       "(0008, 0080) Institution Name                    LO: 'CAPE PET-CT CENTRE'\n",
       "(0008, 0081) Institution Address                 ST: 'Cape Town /819962/ ZIP Street StreetNo'\n",
       "(0008, 0090) Referring Physician's Name          PN: ''\n",
       "(0008, 1010) Station Name                        SH: 'ct48568'\n",
       "(0008, 1030) Study Description                   LO: 'PET^PETCT_AC_WB_CPT (Adult)'\n",
       "(0008, 103e) Series Description                  LO: 'PET WB'\n",
       "(0008, 1040) Institutional Department Name       LO: 'Department'\n",
       "(0008, 1090) Manufacturer's Model Name           LO: '1080'\n",
       "(0010, 0010) Patient's Name                      PN: 'S13'\n",
       "(0010, 0020) Patient ID                          LO: '52676467'\n",
       "(0010, 0030) Patient's Birth Date                DA: '19611111'\n",
       "(0010, 0040) Patient's Sex                       CS: 'M'\n",
       "(0010, 1010) Patient's Age                       AS: '048Y'\n",
       "(0010, 1030) Patient's Weight                    DS: \"63.0\"\n",
       "(0018, 0050) Slice Thickness                     DS: \"2.0000000298023\"\n",
       "(0018, 1000) Device Serial Number                LO: '10000'\n",
       "(0018, 1020) Software Versions                   LO: 'PS4.1'\n",
       "(0018, 1181) Collimator Type                     CS: 'NONE'\n",
       "(0018, 1210) Convolution Kernel                  SH: 'X-Y-Z Gaussian FWHM=5.00'\n",
       "(0018, 1242) Actual Frame Duration               IS: \"180000\"\n",
       "(0018, 5100) Patient Position                    CS: 'HFS'\n",
       "(0020, 000d) Study Instance UID                  UI: 1.3.12.2.1107.5.1.4.48568.30000010110506235200000000004\n",
       "(0020, 000e) Series Instance UID                 UI: 1.3.12.2.1107.5.1.4.48568.30000010110506254140600000094\n",
       "(0020, 0010) Study ID                            SH: '1'\n",
       "(0020, 0011) Series Number                       IS: \"3\"\n",
       "(0020, 0012) Acquisition Number                  IS: \"2003\"\n",
       "(0020, 0013) Instance Number                     IS: \"1\"\n",
       "(0020, 0032) Image Position (Patient)            DS: [-341.6259280096, -465.73435198769, -99]\n",
       "(0020, 0037) Image Orientation (Patient)         DS: [1, 0, 0, 0, 1, 0]\n",
       "(0020, 0052) Frame of Reference UID              UI: 1.3.12.2.1107.5.1.4.48568.30000010110506135618700000083\n",
       "(0020, 1040) Position Reference Indicator        LO: ''\n",
       "(0020, 1041) Slice Location                      DS: \"-99.0\"\n",
       "(0028, 0002) Samples per Pixel                   US: 1\n",
       "(0028, 0004) Photometric Interpretation          CS: 'MONOCHROME2'\n",
       "(0028, 0010) Rows                                US: 168\n",
       "(0028, 0011) Columns                             US: 168\n",
       "(0028, 0030) Pixel Spacing                       DS: [4.0627047858902, 4.0627047858902]\n",
       "(0028, 0051) Corrected Image                     CS: ['RAN', 'DTIM', 'NORM', 'ATTN', 'SCAT', 'DECY']\n",
       "(0028, 0100) Bits Allocated                      US: 16\n",
       "(0028, 0101) Bits Stored                         US: 16\n",
       "(0028, 0102) High Bit                            US: 15\n",
       "(0028, 0103) Pixel Representation                US: 1\n",
       "(0028, 0106) Smallest Image Pixel Value          US: 0\n",
       "(0028, 0107) Largest Image Pixel Value           US: 22146\n",
       "(0028, 1050) Window Center                       DS: \"3837.0\"\n",
       "(0028, 1051) Window Width                        DS: \"6906.0\"\n",
       "(0028, 1052) Rescale Intercept                   DS: \"0.0\"\n",
       "(0028, 1053) Rescale Slope                       DS: \"0.89553189277649\"\n",
       "(0028, 1054) Rescale Type                        LO: 'BQML'\n",
       "(0032, 1060) Requested Procedure Description     LO: 'PET PETCT_AC_WB_CPT (Adult)'\n",
       "(0054, 0013)  Energy Window Range Sequence   1 item(s) ---- \n",
       "   (0054, 0014) Energy Window Lower Limit           DS: \"425.0\"\n",
       "   (0054, 0015) Energy Window Upper Limit           DS: \"650.0\"\n",
       "   ---------\n",
       "(0054, 0016)  Radiopharmaceutical Information Sequence   1 item(s) ---- \n",
       "   (0018, 1072) Radiopharmaceutical Start Time      TM: '130000.000000'\n",
       "   (0018, 1074) Radionuclide Total Dose             DS: \"265000000.0\"\n",
       "   (0018, 1075) Radionuclide Half Life              DS: \"6586.2\"\n",
       "   (0018, 1076) Radionuclide Positron Fraction      DS: \"0.97\"\n",
       "   (0054, 0300)  Radionuclide Code Sequence   1 item(s) ---- \n",
       "      (0008, 0100) Code Value                          SH: 'C-111A1'\n",
       "      (0008, 0102) Coding Scheme Designator            SH: 'SNM3'\n",
       "      (0008, 0104) Code Meaning                        LO: 'F^18^[^18^Fluorine]'\n",
       "      (0008, 0105) Mapping Resource                    CS: 'DCMR'\n",
       "      (0008, 0106) Context Group Version               DT: '20020904000000.000000'\n",
       "      (0008, 010f) Context Identifier                  CS: '4020'\n",
       "      ---------\n",
       "   ---------\n",
       "(0054, 0081) Number of Slices                    US: 132\n",
       "(0054, 0410)  Patient Orientation Code Sequence   1 item(s) ---- \n",
       "   (0008, 0100) Code Value                          SH: 'F-10450'\n",
       "   (0008, 0102) Coding Scheme Designator            SH: 'SNM3'\n",
       "   (0008, 0104) Code Meaning                        LO: 'recumbent'\n",
       "   (0008, 0105) Mapping Resource                    CS: 'DCMR'\n",
       "   (0008, 0106) Context Group Version               DT: '20020904000000.000000'\n",
       "   (0008, 010f) Context Identifier                  CS: '19'\n",
       "   (0054, 0412)  Patient Orientation Modifier Code Sequence   1 item(s) ---- \n",
       "      (0008, 0100) Code Value                          SH: 'F-10340'\n",
       "      (0008, 0102) Coding Scheme Designator            SH: 'SNM3'\n",
       "      (0008, 0104) Code Meaning                        LO: 'supine'\n",
       "      (0008, 0105) Mapping Resource                    CS: 'DCMR'\n",
       "      (0008, 0106) Context Group Version               DT: '20020904000000.000000'\n",
       "      (0008, 010f) Context Identifier                  CS: '20'\n",
       "      ---------\n",
       "   ---------\n",
       "(0054, 0414)  Patient Gantry Relationship Code Sequence   1 item(s) ---- \n",
       "   (0008, 0100) Code Value                          SH: 'F-10470'\n",
       "   (0008, 0102) Coding Scheme Designator            SH: 'SNM3'\n",
       "   (0008, 0104) Code Meaning                        LO: 'headfirst'\n",
       "   (0008, 0105) Mapping Resource                    CS: 'DCMR'\n",
       "   (0008, 0106) Context Group Version               DT: '20020904000000.000000'\n",
       "   (0008, 010f) Context Identifier                  CS: '21'\n",
       "   ---------\n",
       "(0054, 1000) Series Type                         CS: ['WHOLE BODY', 'IMAGE']\n",
       "(0054, 1001) Units                               CS: 'BQML'\n",
       "(0054, 1002) Counts Source                       CS: 'EMISSION'\n",
       "(0054, 1100) Randoms Correction Method           CS: 'DLYD'\n",
       "(0054, 1101) Attenuation Correction Method       LO: 'CT-derived mu-map'\n",
       "(0054, 1102) Decay Correction                    CS: 'START'\n",
       "(0054, 1103) Reconstruction Method               LO: 'OSEM2D 4i8s'\n",
       "(0054, 1105) Scatter Correction Method           LO: 'Model-based'\n",
       "(0054, 1200) Axial Acceptance                    DS: \"27.0\"\n",
       "(0054, 1201) Axial Mash                          IS: [5, 6]\n",
       "(0054, 1300) Frame Reference Time                DS: \"457139.92324928\"\n",
       "(0054, 1321) Decay Factor                        DS: \"1.0492865747187\"\n",
       "(0054, 1322) Dose Calibration Factor             DS: \"33245122.0\"\n",
       "(0054, 1330) Image Index                         US: 1\n",
       "(0088, 0140) Storage Media File-set UID          UI: 1.3.12.2.1107.5.99.2.20531.30000010110512211026500000011\n",
       "(7fe0, 0010) Pixel Data                          OW: Array of 56448 elements"
      ]
     },
     "execution_count": 6,
     "metadata": {},
     "output_type": "execute_result"
    }
   ],
   "source": [
    "ds"
   ]
  },
  {
   "cell_type": "code",
   "execution_count": 7,
   "metadata": {},
   "outputs": [
    {
     "name": "stdout",
     "output_type": "stream",
     "text": [
      "PET^PETCT_AC_WB_CPT (Adult) \n",
      "Max SUV: 10.338522496153988 \t Max Array 29343.89353060725\n",
      "PET^PETCT_AC_WB_CPT (Adult) \n",
      "Max SUV: 10.547840562414093 \t Max Array 27196.836029291055\n"
     ]
    }
   ],
   "source": [
    "for s in dicom_names:\n",
    "    files = reader.GetGDCMSeriesFileNames(path,s)\n",
    "    files = files[::-1]# Resort from big to small\n",
    "    ds = dcmread(files[0])\n",
    "    file_reader.SetFileName(files[0])\n",
    "    file_reader.ReadImageInformation()\n",
    "    SeriesDescription = file_reader.GetMetaData('0008|1030')\n",
    "    print(SeriesDescription)\n",
    "    RescaleIntercept = float(ds.RescaleIntercept)\n",
    "    RescaleSlope = float(ds.RescaleSlope)\n",
    "    DoseCalibrationFactor = float(ds.DoseCalibrationFactor)\n",
    "    PatientWeight = float(ds.PatientWeight)\n",
    "    RadionuclideTotalDose = float(ds.RadiopharmaceuticalInformationSequence[0].RadionuclideTotalDose)\n",
    "    RadionuclideHalfLife = float(ds.RadiopharmaceuticalInformationSequence[0].RadionuclideHalfLife)\n",
    "    SeriesTime = StrToSec(ds.SeriesTime)\n",
    "    RadiopharmaceuticalStartTime = StrToSec(ds.RadiopharmaceuticalInformationSequence[0].RadiopharmaceuticalStartTime)\n",
    "    ActualActivity = RadionuclideTotalDose *np.exp(-(np.log(2)*(SeriesTime-RadiopharmaceuticalStartTime))/(RadionuclideHalfLife))*1e-3\n",
    "    #SUV_Factor = ((RescaleSlope + RescaleIntercept)*DoseCalibrationFactor)/(ActualActivity/PatientWeight)\n",
    "    SUV_Factor = ((1)/(ActualActivity/PatientWeight))\n",
    "    reader.SetFileNames(files)\n",
    "    DicomImage = reader.Execute()\n",
    "    DicomArray = sitk.GetArrayFromImage(DicomImage)\n",
    "    SUV = DicomArray* SUV_Factor\n",
    "    print(\"Max SUV:\",np.max(SUV),\"\\t Max Array\",DicomArray.max())"
   ]
  },
  {
   "cell_type": "code",
   "execution_count": 11,
   "metadata": {},
   "outputs": [
    {
     "data": {
      "text/plain": [
       "(132, 168, 168)"
      ]
     },
     "execution_count": 11,
     "metadata": {},
     "output_type": "execute_result"
    }
   ],
   "source": [
    "SUV.shape"
   ]
  },
  {
   "cell_type": "markdown",
   "metadata": {},
   "source": [
    "### File by File Analyses"
   ]
  },
  {
   "cell_type": "code",
   "execution_count": null,
   "metadata": {},
   "outputs": [],
   "source": [
    "file_reader.Execute()\n",
    "files = reader.GetGDCMSeriesFileNames(path,dicom_names[1])\n",
    "files = files[::-1]# Resort from big to small\n",
    "ds = dcmread(files[0])\n",
    "SUV_Array = np.zeros((np.size(files),ds.Rows, ds.Columns))\n",
    "PET_Array = np.zeros((np.size(files),ds.Rows, ds.Columns))\n",
    "cnt = 0\n",
    "for file in files:\n",
    "    ds = dcmread(file)\n",
    "    RescaleIntercept = float(ds.RescaleIntercept)\n",
    "    RescaleSlope = float(ds.RescaleSlope)\n",
    "    DoseCalibrationFactor = float(ds.DoseCalibrationFactor)\n",
    "    PatientWeight = float(ds.PatientWeight)\n",
    "    RadionuclideTotalDose = float(ds.RadiopharmaceuticalInformationSequence[0].RadionuclideTotalDose)\n",
    "    RadionuclideHalfLife = float(ds.RadiopharmaceuticalInformationSequence[0].RadionuclideHalfLife)\n",
    "    SeriesTime = StrToSec(ds.SeriesTime)\n",
    "    RadiopharmaceuticalStartTime = StrToSec(ds.RadiopharmaceuticalInformationSequence[0].RadiopharmaceuticalStartTime)\n",
    "    ActualActivity = RadionuclideTotalDose *np.exp(-(np.log(2)*(SeriesTime-RadiopharmaceuticalStartTime))/(RadionuclideHalfLife))*1e-3\n",
    "    LargestImagePixelValue = ds.LargestImagePixelValue\n",
    "    #SUV_Factor = ((RescaleSlope + RescaleIntercept)*DoseCalibrationFactor)/(ActualActivity/PatientWeight)\n",
    "    SUV_Factor = ((1)/(ActualActivity/PatientWeight))\n",
    "    file_reader.SetFileName(file)\n",
    "    DicomImage = file_reader.Execute()\n",
    "    DicomArray = sitk.GetArrayFromImage(DicomImage)\n",
    "    \n",
    "    scale = LargestImagePixelValue/np.max(DicomArray)\n",
    "    \n",
    "    SUV = DicomArray* SUV_Factor\n",
    "    SUV_Array[cnt,:,:] = SUV\n",
    "    PET_Array[cnt,:,:] = DicomArray#*scale\n",
    "    print(\"Max SUV:\",np.max(SUV),\"\\t Max Array\",np.max(DicomArray), \"\\t Largest Pixel\",LargestImagePixelValue/np.max(DicomArray))\n",
    "    cnt=cnt+1\n",
    "print(\"Max SUV:\",np.max(SUV_Array),\"\\t Max Array:\",np.max(PET_Array))"
   ]
  }
 ],
 "metadata": {
  "kernelspec": {
   "display_name": "Python 3",
   "language": "python",
   "name": "python3"
  },
  "language_info": {
   "codemirror_mode": {
    "name": "ipython",
    "version": 3
   },
   "file_extension": ".py",
   "mimetype": "text/x-python",
   "name": "python",
   "nbconvert_exporter": "python",
   "pygments_lexer": "ipython3",
   "version": "3.7.7"
  },
  "varInspector": {
   "cols": {
    "lenName": 16,
    "lenType": 16,
    "lenVar": 40
   },
   "kernels_config": {
    "python": {
     "delete_cmd_postfix": "",
     "delete_cmd_prefix": "del ",
     "library": "var_list.py",
     "varRefreshCmd": "print(var_dic_list())"
    },
    "r": {
     "delete_cmd_postfix": ") ",
     "delete_cmd_prefix": "rm(",
     "library": "var_list.r",
     "varRefreshCmd": "cat(var_dic_list()) "
    }
   },
   "types_to_exclude": [
    "module",
    "function",
    "builtin_function_or_method",
    "instance",
    "_Feature"
   ],
   "window_display": false
  }
 },
 "nbformat": 4,
 "nbformat_minor": 4
}
