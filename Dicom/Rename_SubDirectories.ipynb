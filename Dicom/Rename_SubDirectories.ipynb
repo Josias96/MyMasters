{
 "cells": [
  {
   "cell_type": "markdown",
   "metadata": {},
   "source": [
    "# Rename Folders According to Dicoms within"
   ]
  },
  {
   "cell_type": "code",
   "execution_count": 13,
   "metadata": {},
   "outputs": [],
   "source": [
    "import os\n",
    "import numpy as np\n",
    "import pandas as pd\n",
    "import SimpleITK as sitk"
   ]
  },
  {
   "cell_type": "markdown",
   "metadata": {},
   "source": [
    "### Select Folder with Subfolders to rename"
   ]
  },
  {
   "cell_type": "code",
   "execution_count": 14,
   "metadata": {},
   "outputs": [],
   "source": [
    "#Create Functions\n",
    "def get_immediate_subdirectories(a_dir):\n",
    "    return [name for name in os.listdir(a_dir)\n",
    "            if os.path.isdir(os.path.join(a_dir, name))]\n",
    "\n",
    "def read_scan(PATH):\n",
    "    filename = os.listdir(PATH)\n",
    "    PATH = os.path.join(PATH,filename[0])\n",
    "    file_reader = sitk.ImageFileReader()\n",
    "    file_reader.SetFileName(PATH)\n",
    "    file_reader.ReadImageInformation()\n",
    "    SeriesDescription = file_reader.GetMetaData('0008|103e')\n",
    "    return SeriesDescription\n",
    "\n",
    "def change_folders_names(FOLDER_PATH):\n",
    "    FOLDERS = get_immediate_subdirectories(FOLDER_PATH)\n",
    "    for FOLDER in FOLDERS: \n",
    "        path = os.path.join(FOLDER_PATH, FOLDER)\n",
    "        SeriesDescription = read_scan(path)\n",
    "        os.rename(os.path.join(FOLDER_PATH, FOLDER),\n",
    "                  os.path.join(FOLDER_PATH,FOLDER+'_'+SeriesDescription))"
   ]
  },
  {
   "cell_type": "code",
   "execution_count": 19,
   "metadata": {},
   "outputs": [],
   "source": [
    "FOLDER_PATH = \"E:\\\\All Biomarker Dicoms_jamdre\\\\S13\\\\1\"\n",
    "change_folders_names(FOLDER_PATH)"
   ]
  },
  {
   "cell_type": "code",
   "execution_count": null,
   "metadata": {},
   "outputs": [],
   "source": []
  },
  {
   "cell_type": "code",
   "execution_count": null,
   "metadata": {},
   "outputs": [],
   "source": []
  }
 ],
 "metadata": {
  "kernelspec": {
   "display_name": "Python 3",
   "language": "python",
   "name": "python3"
  },
  "language_info": {
   "codemirror_mode": {
    "name": "ipython",
    "version": 3
   },
   "file_extension": ".py",
   "mimetype": "text/x-python",
   "name": "python",
   "nbconvert_exporter": "python",
   "pygments_lexer": "ipython3",
   "version": "3.7.7"
  },
  "varInspector": {
   "cols": {
    "lenName": 16,
    "lenType": 16,
    "lenVar": 40
   },
   "kernels_config": {
    "python": {
     "delete_cmd_postfix": "",
     "delete_cmd_prefix": "del ",
     "library": "var_list.py",
     "varRefreshCmd": "print(var_dic_list())"
    },
    "r": {
     "delete_cmd_postfix": ") ",
     "delete_cmd_prefix": "rm(",
     "library": "var_list.r",
     "varRefreshCmd": "cat(var_dic_list()) "
    }
   },
   "types_to_exclude": [
    "module",
    "function",
    "builtin_function_or_method",
    "instance",
    "_Feature"
   ],
   "window_display": false
  }
 },
 "nbformat": 4,
 "nbformat_minor": 2
}
