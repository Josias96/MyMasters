{
 "cells": [
  {
   "cell_type": "markdown",
   "metadata": {},
   "source": [
    "# Test Models"
   ]
  },
  {
   "cell_type": "code",
   "execution_count": 37,
   "metadata": {},
   "outputs": [],
   "source": [
    "#James Code\n",
    "import numpy as np\n",
    "\n",
    "def colour_specific_MAE(y, y_hat, pixel_threshold=0.8, penalty=100):\n",
    "    #shape = y.shape\n",
    "    #z_scale = shape[1]  # 18\n",
    "    #x_scale = shape[2]  # 768\n",
    "    #y_scale = shape[3]  # 768\n",
    "\n",
    "    #Without Penalty, not averaged yet\n",
    "    MAE = np.absolute(y - y_hat)\n",
    "\n",
    "    #Determine penalised pixel locations\n",
    "    RED = np.ones(y[0,:,:].shape)\n",
    "    RED[(y[0,:,:] >= pixel_threshold) & (y[1,:,:] < pixel_threshold) & (y[2,:,:] < pixel_threshold)] = penalty #Het <= na < verander\n",
    "    BLUE = np.ones(y[:,:,1].shape)\n",
    "    BLUE[(y[1,:,:] >= pixel_threshold) & (y[0,:,:] < pixel_threshold) & (y[2,:,:] < pixel_threshold)] = penalty\n",
    "    GREEN = np.ones(y[:,:,2].shape)\n",
    "    GREEN[(y[2,:,:] >= pixel_threshold) & (y[0,:,:] < pixel_threshold) & (y[1,:,:] < pixel_threshold)] = penalty\n",
    "    \n",
    "    #Add Penalty\n",
    "    MAE[0,:,:] = MAE[0,:,:] * RED\n",
    "    MAE[1,:,:] = MAE[1,:,:] * BLUE\n",
    "    MAE[2,:,:] = MAE[2,:,:] * GREEN\n",
    "    \n",
    "    return MAE#np.sum(MAE) / (3*3*3) #(z_scale * x_scale * y_scale * 3)"
   ]
  },
  {
   "cell_type": "code",
   "execution_count": 39,
   "metadata": {},
   "outputs": [
    {
     "name": "stdout",
     "output_type": "stream",
     "text": [
      "[[[0 0 0]\n",
      "  [0 0 0]\n",
      "  [1 1 1]]\n",
      "\n",
      " [[1 1 1]\n",
      "  [0 0 0]\n",
      "  [0 0 0]]\n",
      "\n",
      " [[0 0 0]\n",
      "  [1 1 1]\n",
      "  [0 0 0]]]\n",
      "[[[0.24 0.36 0.12]\n",
      "  [0.37 0.86 0.09]\n",
      "  [0.87 0.92 0.7 ]]\n",
      "\n",
      " [[0.82 0.92 0.87]\n",
      "  [0.22 0.43 0.24]\n",
      "  [0.17 0.29 0.8 ]]\n",
      "\n",
      " [[0.07 0.11 0.53]\n",
      "  [0.88 0.92 0.87]\n",
      "  [0.03 0.17 0.47]]]\n"
     ]
    }
   ],
   "source": [
    "y = np.array([[[0,0,0],[0,0,0],[1,1,1]],[[1,1,1],[0,0,0],[0,0,0]],[[0,0,0],[1,1,1],[0,0,0]]])\n",
    "y_hat = np.array([[[0.24,0.36,0.12],[0.37,0.86,0.09],[0.87,0.92,0.7]],[[0.82,0.92,0.87],[0.22,0.43,0.24],[0.17,0.29,0.8]],[[0.07,0.11,0.53],[0.88,0.92,0.87],[0.03,0.17,0.47]]])\n",
    "print(y)\n",
    "print(y_hat)"
   ]
  },
  {
   "cell_type": "code",
   "execution_count": 33,
   "metadata": {},
   "outputs": [
    {
     "data": {
      "text/plain": [
       "array([[0, 0, 0],\n",
       "       [0, 0, 0],\n",
       "       [1, 1, 1]])"
      ]
     },
     "execution_count": 33,
     "metadata": {},
     "output_type": "execute_result"
    }
   ],
   "source": [
    "print(y[0,:,:])"
   ]
  },
  {
   "cell_type": "code",
   "execution_count": 38,
   "metadata": {},
   "outputs": [
    {
     "data": {
      "text/plain": [
       "array([[[2.4e-01, 3.6e-01, 1.2e-01],\n",
       "        [3.7e-01, 8.6e-01, 9.0e-02],\n",
       "        [1.3e+01, 8.0e+00, 3.0e+01]],\n",
       "\n",
       "       [[1.8e+01, 8.0e+00, 1.3e+01],\n",
       "        [2.2e-01, 4.3e-01, 2.4e-01],\n",
       "        [1.7e-01, 2.9e-01, 8.0e-01]],\n",
       "\n",
       "       [[7.0e-02, 1.1e-01, 5.3e-01],\n",
       "        [1.2e+01, 8.0e+00, 1.3e+01],\n",
       "        [3.0e-02, 1.7e-01, 4.7e-01]]])"
      ]
     },
     "execution_count": 38,
     "metadata": {},
     "output_type": "execute_result"
    }
   ],
   "source": [
    "colour_specific_MAE(y, y_hat)"
   ]
  }
 ],
 "metadata": {
  "kernelspec": {
   "display_name": "Python 3",
   "language": "python",
   "name": "python3"
  },
  "language_info": {
   "codemirror_mode": {
    "name": "ipython",
    "version": 3
   },
   "file_extension": ".py",
   "mimetype": "text/x-python",
   "name": "python",
   "nbconvert_exporter": "python",
   "pygments_lexer": "ipython3",
   "version": "3.7.7"
  },
  "varInspector": {
   "cols": {
    "lenName": 16,
    "lenType": 16,
    "lenVar": 40
   },
   "kernels_config": {
    "python": {
     "delete_cmd_postfix": "",
     "delete_cmd_prefix": "del ",
     "library": "var_list.py",
     "varRefreshCmd": "print(var_dic_list())"
    },
    "r": {
     "delete_cmd_postfix": ") ",
     "delete_cmd_prefix": "rm(",
     "library": "var_list.r",
     "varRefreshCmd": "cat(var_dic_list()) "
    }
   },
   "types_to_exclude": [
    "module",
    "function",
    "builtin_function_or_method",
    "instance",
    "_Feature"
   ],
   "window_display": false
  }
 },
 "nbformat": 4,
 "nbformat_minor": 4
}
