{
 "cells": [
  {
   "cell_type": "markdown",
   "metadata": {},
   "source": [
    "# Test Models"
   ]
  },
  {
   "cell_type": "code",
   "execution_count": 1,
   "metadata": {},
   "outputs": [],
   "source": [
    "from jupyterthemes import jtplot\n",
    "from skimage.util import montage as montage2d\n",
    "from tensorflow.keras.optimizers import Adam\n",
    "import UNets.MyImplementation.UNET_Adv7 as UNet\n",
    "import UNets.Vanilla.UNet_Vanilla as UNetV\n",
    "from MyFunctions.CreatePaths import CreatePaths\n",
    "from MyFunctions.LoadImages import LoadImages\n",
    "from MyFunctions.RunModels import RunModels\n",
    "\n",
    "import SimpleITK as sitk\n",
    "import tensorflow as tf\n",
    "import pandas as pd\n",
    "import numpy as np\n",
    "import importlib\n",
    "import os\n",
    "\n",
    "import matplotlib.pyplot as plt\n",
    "import matplotlib as mpl\n",
    "\n",
    "from os import listdir\n",
    "from os.path import isfile, join\n",
    "\n",
    "from sklearn.metrics import recall_score\n",
    "from sklearn.metrics import precision_score\n",
    "\n",
    "\n",
    "def showCTMontage(IMG, SIZE, SaveFig=False, save_fig_name=\"\"):\n",
    "    plt.figure(figsize=(SIZE, SIZE))\n",
    "    plt.imshow(montage2d(IMG), alpha=1, cmap='gray')\n",
    "    plt.axis('off')\n",
    "    plt.show()\n",
    "    if SaveFig:\n",
    "        save_fig_path = os.path.join(os.curdir, \"SavedFigures\")\n",
    "        plt.savefig(os.path.join(save_fig_path,\n",
    "                                 save_fig_name+\".pdf\"), bbox_inches='tight')\n",
    "\n",
    "\n",
    "def showCTMontageOverlay(IMG1, IMG2, SIZE=15, SaveFig=False, save_fig_name=\"\"):\n",
    "    fig, ax = plt.subplots(figsize=(SIZE, SIZE))\n",
    "    try:\n",
    "        ax.imshow(montage2d(IMG1), alpha=1, cmap='gray')\n",
    "    except:\n",
    "        print(\"Error: Img 1\")\n",
    "    try:\n",
    "        ax.imshow(montage2d(IMG2, fill=0), alpha=0.5,\n",
    "                  cmap=cmap, interpolation='none')\n",
    "    except:\n",
    "        print(\"Error: Img 2\")\n",
    "    plt.axis('off')\n",
    "\n",
    "    if SaveFig:\n",
    "        save_fig_path = os.path.join(os.curdir, \"SavedFigures\")\n",
    "        plt.savefig(os.path.join(save_fig_path,\n",
    "                                 save_fig_name+\".pdf\"), bbox_inches='tight')\n",
    "    plt.show()\n",
    "\n",
    "\n",
    "def dice_coef(y_true, y_pred, smooth=1):\n",
    "    y_true_f = tf.keras.backend.flatten(y_true)\n",
    "    y_pred_f = tf.keras.backend.flatten(y_pred)\n",
    "    intersection = tf.keras.backend.sum(y_true_f * y_pred_f)\n",
    "    return (2. * intersection + smooth) / (tf.keras.backend.sum(y_true_f) + tf.keras.backend.sum(y_pred_f) + smooth)\n",
    "\n",
    "\n",
    "def dice_coef_loss(y_true, y_pred):\n",
    "    return 1 - dice_coef(y_true, y_pred)"
   ]
  },
  {
   "cell_type": "code",
   "execution_count": 12,
   "metadata": {},
   "outputs": [
    {
     "name": "stdout",
     "output_type": "stream",
     "text": [
      "Image Path: \tD://MyMasters//Data//TestingData//imgs\n",
      "Mask Path: \tD://MyMasters//Data/TestingData//masks\n",
      "Output Path: \tD://MyMasters//Output\n"
     ]
    }
   ],
   "source": [
    "# Change Class Variable below for different paths e.g. CT/PET\n",
    "path = CreatePaths(DeviceFlag=\"PC\", ScanTypeFlag=\"CT\", TrainTestFlag=\"Train\")\n",
    "\n",
    "DATA_PATH = \"D://MyMasters//Data//TestingData//\"\n",
    "IMGS_PATH = \"D://MyMasters//Data//TestingData//imgs\"\n",
    "MSKS_PATH = \"D://MyMasters//Data/TestingData//masks\"\n",
    "\n",
    "OUTPUT_PATH = \"D://MyMasters//Output\"\n",
    "\n",
    "print(\"Image Path: \"+\"\\t\"+IMGS_PATH+\"\\n\"+\"Mask Path: \" +\n",
    "      \"\\t\"+MSKS_PATH+\"\\n\"+\"Output Path: \"+\"\\t\"+OUTPUT_PATH)\n",
    "\n",
    "ScanType = \"CT\"\n",
    "Orientation = \"Axial\"\n",
    "Orientations = [\"Axial\", \"Sagittal\", \"Coronal\"]\n",
    "\n",
    "Orientations_3 = [\"Axial\", \"Coronal\"]\n",
    "\n",
    "TestImgsStrings = [f for f in listdir(IMGS_PATH) if isfile(join(IMGS_PATH, f))]\n",
    "TestMasksStrings = [f for f in listdir(\n",
    "    MSKS_PATH) if isfile(join(MSKS_PATH, f))]"
   ]
  },
  {
   "cell_type": "markdown",
   "metadata": {},
   "source": [
    "#### Load Refined Models"
   ]
  },
  {
   "cell_type": "code",
   "execution_count": 3,
   "metadata": {},
   "outputs": [],
   "source": [
    "MyModel_Ax = UNet.UNet_Adv(input_shape=(256, 256, 1),\n",
    "                           n_filters=32, activation=tf.keras.layers.LeakyReLU(), showSummary=False).CreateUnet()\n",
    "MyModel_Ax.compile(optimizer=Adam(learning_rate=1e-4),\n",
    "                   loss=dice_coef_loss, metrics=[tf.keras.metrics.MeanIoU(num_classes=2)])\n",
    "MyModel_Ax.load_weights(\n",
    "    \"D://MyMasters//Code//Josias-Masters//TrainedModels//U-Net_7_3_Axial.h5\")\n",
    "\n",
    "MyModel_Sg = UNet.UNet_Adv(input_shape=(256, 256, 1),\n",
    "                           n_filters=32, activation=tf.keras.layers.LeakyReLU(), showSummary=False).CreateUnet()\n",
    "MyModel_Sg.compile(optimizer=Adam(learning_rate=1e-4),\n",
    "                   loss=dice_coef_loss, metrics=[tf.keras.metrics.MeanIoU(num_classes=2)])\n",
    "MyModel_Sg.load_weights(\n",
    "    \"D://MyMasters//Code//Josias-Masters//TrainedModels//U-Net_7_2_Sagittal.h5\")\n",
    "\n",
    "MyModel_Cor = UNet.UNet_Adv(input_shape=(256, 256, 1),\n",
    "                            n_filters=32, activation=tf.keras.layers.LeakyReLU(), showSummary=False).CreateUnet()\n",
    "MyModel_Cor.compile(optimizer=Adam(learning_rate=1e-4),\n",
    "                    loss=dice_coef_loss, metrics=[tf.keras.metrics.MeanIoU(num_classes=2)])\n",
    "MyModel_Cor.load_weights(\n",
    "    \"D://MyMasters//Code//Josias-Masters//TrainedModels//U-Net_7_3_Coronal.h5\")\n",
    "Model_ENS = [MyModel_Ax, MyModel_Sg, MyModel_Cor]\n",
    "Model_ENS_3 = [MyModel_Ax, MyModel_Cor]"
   ]
  },
  {
   "cell_type": "markdown",
   "metadata": {},
   "source": [
    "#### Ensemble Model"
   ]
  },
  {
   "cell_type": "code",
   "execution_count": null,
   "metadata": {},
   "outputs": [],
   "source": [
    "MyModel_Ens = UNet.UNet_Adv(input_shape=(256, 256, 1),\n",
    "                            n_filters=32, activation=tf.keras.layers.LeakyReLU(), showSummary=False).CreateUnet()\n",
    "MyModel_Ens.compile(optimizer=Adam(learning_rate=1e-4),\n",
    "                    loss=dice_coef_loss, metrics=[tf.keras.metrics.MeanIoU(num_classes=2)])\n",
    "MyModel_Ens.load_weights(\n",
    "    \"D://MyMasters//Code//Josias-Masters//TrainedModels//U-Net_E_Axial.h5\")"
   ]
  },
  {
   "cell_type": "markdown",
   "metadata": {},
   "source": [
    "#### Load Vanilla Model"
   ]
  },
  {
   "cell_type": "code",
   "execution_count": 7,
   "metadata": {
    "collapsed": true
   },
   "outputs": [
    {
     "name": "stdout",
     "output_type": "stream",
     "text": [
      "Model: \"model_3\"\n",
      "__________________________________________________________________________________________________\n",
      "Layer (type)                    Output Shape         Param #     Connected to                     \n",
      "==================================================================================================\n",
      "input_4 (InputLayer)            [(None, 256, 256, 1) 0                                            \n",
      "__________________________________________________________________________________________________\n",
      "conv2d_57 (Conv2D)              (None, 256, 256, 64) 640         input_4[0][0]                    \n",
      "__________________________________________________________________________________________________\n",
      "activation_289 (Activation)     (None, 256, 256, 64) 0           conv2d_57[0][0]                  \n",
      "__________________________________________________________________________________________________\n",
      "batch_normalization_315 (BatchN (None, 256, 256, 64) 448         activation_289[0][0]             \n",
      "__________________________________________________________________________________________________\n",
      "conv2d_58 (Conv2D)              (None, 256, 256, 64) 36928       batch_normalization_315[0][0]    \n",
      "__________________________________________________________________________________________________\n",
      "activation_290 (Activation)     (None, 256, 256, 64) 0           conv2d_58[0][0]                  \n",
      "__________________________________________________________________________________________________\n",
      "batch_normalization_316 (BatchN (None, 256, 256, 64) 448         activation_290[0][0]             \n",
      "__________________________________________________________________________________________________\n",
      "max_pooling2d (MaxPooling2D)    (None, 128, 128, 64) 0           batch_normalization_316[0][0]    \n",
      "__________________________________________________________________________________________________\n",
      "conv2d_59 (Conv2D)              (None, 128, 128, 128 73856       max_pooling2d[0][0]              \n",
      "__________________________________________________________________________________________________\n",
      "activation_291 (Activation)     (None, 128, 128, 128 0           conv2d_59[0][0]                  \n",
      "__________________________________________________________________________________________________\n",
      "batch_normalization_317 (BatchN (None, 128, 128, 128 896         activation_291[0][0]             \n",
      "__________________________________________________________________________________________________\n",
      "conv2d_60 (Conv2D)              (None, 128, 128, 128 147584      batch_normalization_317[0][0]    \n",
      "__________________________________________________________________________________________________\n",
      "activation_292 (Activation)     (None, 128, 128, 128 0           conv2d_60[0][0]                  \n",
      "__________________________________________________________________________________________________\n",
      "batch_normalization_318 (BatchN (None, 128, 128, 128 896         activation_292[0][0]             \n",
      "__________________________________________________________________________________________________\n",
      "max_pooling2d_1 (MaxPooling2D)  (None, 64, 64, 128)  0           batch_normalization_318[0][0]    \n",
      "__________________________________________________________________________________________________\n",
      "conv2d_61 (Conv2D)              (None, 64, 64, 256)  295168      max_pooling2d_1[0][0]            \n",
      "__________________________________________________________________________________________________\n",
      "activation_293 (Activation)     (None, 64, 64, 256)  0           conv2d_61[0][0]                  \n",
      "__________________________________________________________________________________________________\n",
      "batch_normalization_319 (BatchN (None, 64, 64, 256)  1792        activation_293[0][0]             \n",
      "__________________________________________________________________________________________________\n",
      "conv2d_62 (Conv2D)              (None, 64, 64, 256)  590080      batch_normalization_319[0][0]    \n",
      "__________________________________________________________________________________________________\n",
      "activation_294 (Activation)     (None, 64, 64, 256)  0           conv2d_62[0][0]                  \n",
      "__________________________________________________________________________________________________\n",
      "batch_normalization_320 (BatchN (None, 64, 64, 256)  1792        activation_294[0][0]             \n",
      "__________________________________________________________________________________________________\n",
      "max_pooling2d_2 (MaxPooling2D)  (None, 32, 32, 256)  0           batch_normalization_320[0][0]    \n",
      "__________________________________________________________________________________________________\n",
      "conv2d_63 (Conv2D)              (None, 32, 32, 512)  1180160     max_pooling2d_2[0][0]            \n",
      "__________________________________________________________________________________________________\n",
      "activation_295 (Activation)     (None, 32, 32, 512)  0           conv2d_63[0][0]                  \n",
      "__________________________________________________________________________________________________\n",
      "batch_normalization_321 (BatchN (None, 32, 32, 512)  3584        activation_295[0][0]             \n",
      "__________________________________________________________________________________________________\n",
      "conv2d_64 (Conv2D)              (None, 32, 32, 512)  2359808     batch_normalization_321[0][0]    \n",
      "__________________________________________________________________________________________________\n",
      "activation_296 (Activation)     (None, 32, 32, 512)  0           conv2d_64[0][0]                  \n",
      "__________________________________________________________________________________________________\n",
      "batch_normalization_322 (BatchN (None, 32, 32, 512)  3584        activation_296[0][0]             \n",
      "__________________________________________________________________________________________________\n",
      "max_pooling2d_3 (MaxPooling2D)  (None, 16, 16, 512)  0           batch_normalization_322[0][0]    \n",
      "__________________________________________________________________________________________________\n",
      "conv2d_65 (Conv2D)              (None, 16, 16, 1024) 4719616     max_pooling2d_3[0][0]            \n",
      "__________________________________________________________________________________________________\n",
      "activation_297 (Activation)     (None, 16, 16, 1024) 0           conv2d_65[0][0]                  \n",
      "__________________________________________________________________________________________________\n",
      "batch_normalization_323 (BatchN (None, 16, 16, 1024) 7168        activation_297[0][0]             \n",
      "__________________________________________________________________________________________________\n",
      "conv2d_66 (Conv2D)              (None, 16, 16, 1024) 9438208     batch_normalization_323[0][0]    \n",
      "__________________________________________________________________________________________________\n",
      "activation_298 (Activation)     (None, 16, 16, 1024) 0           conv2d_66[0][0]                  \n",
      "__________________________________________________________________________________________________\n",
      "batch_normalization_324 (BatchN (None, 16, 16, 1024) 7168        activation_298[0][0]             \n",
      "__________________________________________________________________________________________________\n",
      "dropout (Dropout)               (None, 16, 16, 1024) 0           batch_normalization_324[0][0]    \n",
      "__________________________________________________________________________________________________\n",
      "up_sampling2d_12 (UpSampling2D) (None, 32, 32, 1024) 0           dropout[0][0]                    \n",
      "__________________________________________________________________________________________________\n",
      "conv2d_67 (Conv2D)              (None, 32, 32, 512)  4719104     up_sampling2d_12[0][0]           \n",
      "__________________________________________________________________________________________________\n",
      "activation_299 (Activation)     (None, 32, 32, 512)  0           conv2d_67[0][0]                  \n",
      "__________________________________________________________________________________________________\n",
      "batch_normalization_325 (BatchN (None, 32, 32, 512)  3584        activation_299[0][0]             \n",
      "__________________________________________________________________________________________________\n",
      "concatenate_12 (Concatenate)    (None, 32, 32, 1024) 0           batch_normalization_325[0][0]    \n",
      "                                                                 batch_normalization_322[0][0]    \n",
      "__________________________________________________________________________________________________\n",
      "conv2d_68 (Conv2D)              (None, 32, 32, 512)  4719104     concatenate_12[0][0]             \n",
      "__________________________________________________________________________________________________\n",
      "activation_300 (Activation)     (None, 32, 32, 512)  0           conv2d_68[0][0]                  \n",
      "__________________________________________________________________________________________________\n",
      "batch_normalization_326 (BatchN (None, 32, 32, 512)  3584        activation_300[0][0]             \n",
      "__________________________________________________________________________________________________\n",
      "conv2d_69 (Conv2D)              (None, 32, 32, 512)  2359808     batch_normalization_326[0][0]    \n",
      "__________________________________________________________________________________________________\n",
      "activation_301 (Activation)     (None, 32, 32, 512)  0           conv2d_69[0][0]                  \n",
      "__________________________________________________________________________________________________\n",
      "batch_normalization_327 (BatchN (None, 32, 32, 512)  3584        activation_301[0][0]             \n",
      "__________________________________________________________________________________________________\n",
      "up_sampling2d_13 (UpSampling2D) (None, 64, 64, 512)  0           batch_normalization_327[0][0]    \n",
      "__________________________________________________________________________________________________\n",
      "conv2d_70 (Conv2D)              (None, 64, 64, 256)  1179904     up_sampling2d_13[0][0]           \n",
      "__________________________________________________________________________________________________\n",
      "activation_302 (Activation)     (None, 64, 64, 256)  0           conv2d_70[0][0]                  \n",
      "__________________________________________________________________________________________________\n",
      "batch_normalization_328 (BatchN (None, 64, 64, 256)  1792        activation_302[0][0]             \n",
      "__________________________________________________________________________________________________\n",
      "concatenate_13 (Concatenate)    (None, 64, 64, 512)  0           batch_normalization_328[0][0]    \n",
      "                                                                 batch_normalization_320[0][0]    \n",
      "__________________________________________________________________________________________________\n",
      "conv2d_71 (Conv2D)              (None, 64, 64, 256)  1179904     concatenate_13[0][0]             \n",
      "__________________________________________________________________________________________________\n",
      "activation_303 (Activation)     (None, 64, 64, 256)  0           conv2d_71[0][0]                  \n",
      "__________________________________________________________________________________________________\n",
      "batch_normalization_329 (BatchN (None, 64, 64, 256)  1792        activation_303[0][0]             \n",
      "__________________________________________________________________________________________________\n",
      "conv2d_72 (Conv2D)              (None, 64, 64, 256)  590080      batch_normalization_329[0][0]    \n",
      "__________________________________________________________________________________________________\n",
      "activation_304 (Activation)     (None, 64, 64, 256)  0           conv2d_72[0][0]                  \n",
      "__________________________________________________________________________________________________\n",
      "batch_normalization_330 (BatchN (None, 64, 64, 256)  1792        activation_304[0][0]             \n",
      "__________________________________________________________________________________________________\n",
      "up_sampling2d_14 (UpSampling2D) (None, 128, 128, 256 0           batch_normalization_330[0][0]    \n",
      "__________________________________________________________________________________________________\n",
      "conv2d_73 (Conv2D)              (None, 128, 128, 128 295040      up_sampling2d_14[0][0]           \n",
      "__________________________________________________________________________________________________\n",
      "activation_305 (Activation)     (None, 128, 128, 128 0           conv2d_73[0][0]                  \n",
      "__________________________________________________________________________________________________\n",
      "batch_normalization_331 (BatchN (None, 128, 128, 128 896         activation_305[0][0]             \n",
      "__________________________________________________________________________________________________\n",
      "concatenate_14 (Concatenate)    (None, 128, 128, 256 0           batch_normalization_331[0][0]    \n",
      "                                                                 batch_normalization_318[0][0]    \n",
      "__________________________________________________________________________________________________\n",
      "conv2d_74 (Conv2D)              (None, 128, 128, 128 295040      concatenate_14[0][0]             \n",
      "__________________________________________________________________________________________________\n",
      "activation_306 (Activation)     (None, 128, 128, 128 0           conv2d_74[0][0]                  \n",
      "__________________________________________________________________________________________________\n",
      "batch_normalization_332 (BatchN (None, 128, 128, 128 896         activation_306[0][0]             \n",
      "__________________________________________________________________________________________________\n",
      "conv2d_75 (Conv2D)              (None, 128, 128, 128 147584      batch_normalization_332[0][0]    \n",
      "__________________________________________________________________________________________________\n",
      "activation_307 (Activation)     (None, 128, 128, 128 0           conv2d_75[0][0]                  \n",
      "__________________________________________________________________________________________________\n",
      "batch_normalization_333 (BatchN (None, 128, 128, 128 896         activation_307[0][0]             \n",
      "__________________________________________________________________________________________________\n",
      "up_sampling2d_15 (UpSampling2D) (None, 256, 256, 128 0           batch_normalization_333[0][0]    \n",
      "__________________________________________________________________________________________________\n",
      "conv2d_76 (Conv2D)              (None, 256, 256, 64) 73792       up_sampling2d_15[0][0]           \n",
      "__________________________________________________________________________________________________\n",
      "activation_308 (Activation)     (None, 256, 256, 64) 0           conv2d_76[0][0]                  \n",
      "__________________________________________________________________________________________________\n",
      "batch_normalization_334 (BatchN (None, 256, 256, 64) 448         activation_308[0][0]             \n",
      "__________________________________________________________________________________________________\n",
      "concatenate_15 (Concatenate)    (None, 256, 256, 128 0           batch_normalization_334[0][0]    \n",
      "                                                                 batch_normalization_316[0][0]    \n",
      "__________________________________________________________________________________________________\n",
      "conv2d_77 (Conv2D)              (None, 256, 256, 64) 73792       concatenate_15[0][0]             \n",
      "__________________________________________________________________________________________________\n",
      "activation_309 (Activation)     (None, 256, 256, 64) 0           conv2d_77[0][0]                  \n",
      "__________________________________________________________________________________________________\n",
      "batch_normalization_335 (BatchN (None, 256, 256, 64) 448         activation_309[0][0]             \n",
      "__________________________________________________________________________________________________\n",
      "conv2d_78 (Conv2D)              (None, 256, 256, 64) 36928       batch_normalization_335[0][0]    \n",
      "__________________________________________________________________________________________________\n",
      "activation_310 (Activation)     (None, 256, 256, 64) 0           conv2d_78[0][0]                  \n",
      "__________________________________________________________________________________________________\n",
      "batch_normalization_336 (BatchN (None, 256, 256, 64) 448         activation_310[0][0]             \n",
      "__________________________________________________________________________________________________\n",
      "conv2d_79 (Conv2D)              (None, 256, 256, 1)  65          batch_normalization_336[0][0]    \n",
      "==================================================================================================\n",
      "Total params: 34,560,129\n",
      "Trainable params: 34,525,889\n",
      "Non-trainable params: 34,240\n",
      "__________________________________________________________________________________________________\n"
     ]
    }
   ],
   "source": [
    "MyModel_V = UNetV.UNet_Vanilla(input_shape=(256, 256, 1)).CreateUnet()\n",
    "MyModel_V.compile(optimizer=Adam(learning_rate=1e-4),\n",
    "                  loss=dice_coef_loss, metrics=[tf.keras.metrics.MeanIoU(num_classes=2)])\n",
    "MyModel_V.load_weights(\n",
    "    \"D://MyMasters//Code//Josias-Masters//TrainedModels//U-Net_V_Axial.h5\")"
   ]
  },
  {
   "cell_type": "markdown",
   "metadata": {},
   "source": [
    "#### Calculate Dice Coeff Of Test Scans"
   ]
  },
  {
   "cell_type": "code",
   "execution_count": null,
   "metadata": {
    "scrolled": true
   },
   "outputs": [],
   "source": [
    "cnt = 0\n",
    "ori = 0\n",
    "#threshold = 0.5\n",
    "\n",
    "Model_ENS = MyModel_V\n",
    "Orientations = Orientations[0]\n",
    "\n",
    "for model in Model_ENS:\n",
    "    Orientation = Orientations[ori]\n",
    "    print(Orientation)\n",
    "    for TestImg in TestImgsStrings:\n",
    "\n",
    "        TestImage, _, MetaData = LoadImages(ScanType=\"CT\", ScanClass=\"Image\", ScanName=TestImg,\n",
    "                                            ImgPath=IMGS_PATH, Orientation=Orientation).LoadScan()\n",
    "        TestImage = np.expand_dims(TestImage, axis=3)\n",
    "        TestMsk, Orig_Size, _ = LoadImages(ScanType=\"CT\", ScanClass=\"Mask\", ScanName=TestMasksStrings[cnt],\n",
    "                                           MskPath=MSKS_PATH, Orientation=Orientation).LoadScan()\n",
    "        TestMsk = tf.cast(TestMsk, dtype='float32')\n",
    "        TestMsk = np.expand_dims(TestMsk, axis=3)\n",
    "        y_hat = model.predict(TestImage, batch_size=10, verbose=0)\n",
    "        #y_hat[y_hat>threshold]  = 1\n",
    "        #y_hat[y_hat<threshold]  = 0\n",
    "        #y_hat[y_hat==threshold] = 1\n",
    "        #print(TestImg+\"\\t Dice Coeff: \" + str(dice_coef(TestMsk, y_hat).numpy()*100))\n",
    "        print(dice_coef(TestMsk, y_hat).numpy()*100)\n",
    "        cnt = cnt+1\n",
    "    ori = ori+1\n",
    "    cnt = 0"
   ]
  },
  {
   "cell_type": "markdown",
   "metadata": {},
   "source": [
    "#### Calculate Precision"
   ]
  },
  {
   "cell_type": "code",
   "execution_count": 5,
   "metadata": {
    "scrolled": true
   },
   "outputs": [
    {
     "name": "stdout",
     "output_type": "stream",
     "text": [
      "Axial\n",
      "91.65160486132751\n",
      "89.26316081664376\n",
      "89.84094840315572\n",
      "93.78679639450117\n",
      "99.12141059462081\n",
      "97.36180465830918\n",
      "99.59363673996975\n",
      "86.90476190476191\n",
      "83.89368312046945\n",
      "92.37664720813805\n",
      "88.27750720604314\n",
      "87.44933497874673\n",
      "88.10652450591935\n",
      "90.19048536352253\n",
      "Coronal\n",
      "93.25677330640482\n",
      "89.4771711704092\n",
      "91.07864742195824\n",
      "95.386195946577\n",
      "98.37508776532133\n",
      "97.24708496283384\n",
      "99.29463873122161\n",
      "90.48129063815074\n",
      "86.05970856533585\n",
      "93.24885339237704\n",
      "89.52744805606063\n",
      "88.03767067089062\n",
      "90.16488816842859\n",
      "93.20723890913662\n"
     ]
    }
   ],
   "source": [
    "cnt = 0\n",
    "ori = 0\n",
    "threshold = 0.5\n",
    "\n",
    "Model_ENS = Model_ENS_3\n",
    "Orientations = Orientations_3\n",
    "\n",
    "for model in Model_ENS:\n",
    "    Orientation = Orientations[ori]\n",
    "    print(Orientation)\n",
    "    for TestImg in TestImgsStrings:\n",
    "\n",
    "        TestImage, _, MetaData = LoadImages(ScanType=\"CT\", ScanClass=\"Image\", ScanName=TestImg,\n",
    "                                            ImgPath=IMGS_PATH, Orientation=Orientation).LoadScan()\n",
    "        TestImage = np.expand_dims(TestImage, axis=3)\n",
    "        TestMsk, Orig_Size, _ = LoadImages(ScanType=\"CT\", ScanClass=\"Mask\", ScanName=TestMasksStrings[cnt],\n",
    "                                           MskPath=MSKS_PATH, Orientation=Orientation).LoadScan()\n",
    "        TestMsk = tf.cast(TestMsk, dtype='float32')\n",
    "        TestMsk = np.expand_dims(TestMsk, axis=3)\n",
    "        y_hat = model.predict(TestImage, batch_size=10, verbose=0)\n",
    "\n",
    "        y_hat[y_hat > threshold] = 1\n",
    "        y_hat[y_hat < threshold] = 0\n",
    "        y_hat[y_hat == threshold] = 1\n",
    "\n",
    "        #print(TestImg+\"\\t Dice Coeff: \" + str(dice_coef(TestMsk, y_hat).numpy()*100))\n",
    "        TestMsk = np.squeeze(TestMsk)\n",
    "        y_hat = np.squeeze(y_hat)\n",
    "        print(precision_score(TestMsk.flatten(), y_hat.flatten()) * 100)\n",
    "        cnt = cnt+1\n",
    "    ori = ori+1\n",
    "    cnt = 0"
   ]
  },
  {
   "cell_type": "markdown",
   "metadata": {},
   "source": [
    "#### Calculate Recall"
   ]
  },
  {
   "cell_type": "code",
   "execution_count": 6,
   "metadata": {
    "scrolled": true
   },
   "outputs": [
    {
     "name": "stdout",
     "output_type": "stream",
     "text": [
      "Axial\n",
      "98.10097730734593\n",
      "93.36846536881379\n",
      "94.69073769398373\n",
      "93.20131821547307\n",
      "84.2848578997918\n",
      "90.56404592922223\n",
      "87.10616539575575\n",
      "97.82680364605145\n",
      "99.78991452874476\n",
      "98.40082819119229\n",
      "98.02441339425644\n",
      "98.0400234889734\n",
      "96.2078224478451\n",
      "97.71703792895846\n",
      "Coronal\n",
      "96.51771717014486\n",
      "92.15045802302456\n",
      "92.50151926126847\n",
      "88.96212308183678\n",
      "82.1860677981397\n",
      "87.43361538336607\n",
      "84.14908080628953\n",
      "95.59747306893817\n",
      "99.42175171592612\n",
      "96.3773446119897\n",
      "96.72869346400901\n",
      "97.31567765995715\n",
      "95.09392601294302\n",
      "95.25506722857716\n"
     ]
    }
   ],
   "source": [
    "cnt = 0\n",
    "ori = 0\n",
    "threshold = 0.5\n",
    "\n",
    "Model_ENS = Model_ENS_3\n",
    "Orientations = Orientations_3\n",
    "\n",
    "for model in Model_ENS:\n",
    "    Orientation = Orientations[ori]\n",
    "    print(Orientation)\n",
    "    for TestImg in TestImgsStrings:\n",
    "\n",
    "        TestImage, _, MetaData = LoadImages(ScanType=\"CT\", ScanClass=\"Image\", ScanName=TestImg,\n",
    "                                            ImgPath=IMGS_PATH, Orientation=Orientation).LoadScan()\n",
    "        TestImage = np.expand_dims(TestImage, axis=3)\n",
    "        TestMsk, Orig_Size, _ = LoadImages(ScanType=\"CT\", ScanClass=\"Mask\", ScanName=TestMasksStrings[cnt],\n",
    "                                           MskPath=MSKS_PATH, Orientation=Orientation).LoadScan()\n",
    "        TestMsk = tf.cast(TestMsk, dtype='float32')\n",
    "        TestMsk = np.expand_dims(TestMsk, axis=3)\n",
    "        y_hat = model.predict(TestImage, batch_size=10, verbose=0)\n",
    "\n",
    "        y_hat[y_hat > threshold] = 1\n",
    "        y_hat[y_hat < threshold] = 0\n",
    "        y_hat[y_hat == threshold] = 1\n",
    "\n",
    "        #print(TestImg+\"\\t Dice Coeff: \" + str(dice_coef(TestMsk, y_hat).numpy()*100))\n",
    "        TestMsk = np.squeeze(TestMsk)\n",
    "        y_hat = np.squeeze(y_hat)\n",
    "        print(recall_score(TestMsk.flatten(), y_hat.flatten()) * 100)\n",
    "        cnt = cnt+1\n",
    "    ori = ori+1\n",
    "    cnt = 0"
   ]
  },
  {
   "cell_type": "markdown",
   "metadata": {},
   "source": [
    "## Run Ensemble Average Model\n",
    "### Calculate Dice"
   ]
  },
  {
   "cell_type": "code",
   "execution_count": null,
   "metadata": {},
   "outputs": [],
   "source": [
    "cnt = 0\n",
    "for TestImg in TestImgsStrings:\n",
    "    TestMsk, _, _ = LoadImages(ScanType=\"CT\", ScanClass=\"Mask\", ScanName=TestMasksStrings[cnt],\n",
    "                               MskPath=MSKS_PATH, Orientation=Orientations[0], ImgDepth=0, ImgSize=0).LoadScan()\n",
    "\n",
    "    Arr, Orig_Size, MetaData = LoadImages(ScanType=\"CT\", ScanClass=\"Image\", ScanName=TestImg,\n",
    "                                          ImgPath=IMGS_PATH, Orientations=Orientations).LoadScanEnsamble()\n",
    "\n",
    "    y_hat = RunModels(OutPath=OUTPUT_PATH, ScanName=\"P\"+TestImg, Scan=\"None\", Scans=Arr, Scan_Size=Orig_Size,\n",
    "                      Scan_Metadata=MetaData, Model=Model_ENS, Orientation=\"\", Threshold=0.5, Orientations=Orientations).runModels(Limit=True, ReturnArray=True, Verbose=0)\n",
    "    #y_hat = y_hat.numpy()\n",
    "    y_hat = tf.cast(y_hat, dtype='float32')\n",
    "    TestMsk = tf.cast(TestMsk, dtype='float32')\n",
    "    print(dice_coef(TestMsk, y_hat).numpy()*100)\n",
    "    cnt = cnt + 1"
   ]
  },
  {
   "cell_type": "markdown",
   "metadata": {},
   "source": [
    "#### Precision"
   ]
  },
  {
   "cell_type": "code",
   "execution_count": null,
   "metadata": {},
   "outputs": [],
   "source": [
    "cnt = 0\n",
    "for TestImg in TestImgsStrings:\n",
    "    TestMsk, _, _ = LoadImages(ScanType=\"CT\", ScanClass=\"Mask\", ScanName=TestMasksStrings[cnt],\n",
    "                               MskPath=MSKS_PATH, Orientation=Orientations[0], ImgDepth=0, ImgSize=0).LoadScan()\n",
    "\n",
    "    Arr, Orig_Size, MetaData = LoadImages(ScanType=\"CT\", ScanClass=\"Image\", ScanName=TestImg,\n",
    "                                          ImgPath=IMGS_PATH, Orientations=Orientations).LoadScanEnsamble()\n",
    "\n",
    "    y_hat = RunModels(OutPath=OUTPUT_PATH, ScanName=\"P\"+TestImg, Scan=\"None\", Scans=Arr, Scan_Size=Orig_Size,\n",
    "                      Scan_Metadata=MetaData, Model=Model_ENS, Orientation=\"\", Threshold=0.5, Orientations=Orientations).runModels(Limit=True, ReturnArray=True, Verbose=0)\n",
    "\n",
    "    y_hat = tf.cast(y_hat, dtype='float32')\n",
    "    y_hat = y_hat.numpy()\n",
    "    TestMsk = tf.cast(TestMsk, dtype='float32')\n",
    "    TestMsk = TestMsk.numpy()\n",
    "    print(precision_score(TestMsk.flatten(), y_hat.flatten())*100)\n",
    "    cnt = cnt + 1"
   ]
  },
  {
   "cell_type": "markdown",
   "metadata": {},
   "source": [
    "#### Recall"
   ]
  },
  {
   "cell_type": "code",
   "execution_count": null,
   "metadata": {},
   "outputs": [],
   "source": [
    "cnt = 0\n",
    "for TestImg in TestImgsStrings:\n",
    "    TestMsk, _, _ = LoadImages(ScanType=\"CT\", ScanClass=\"Mask\", ScanName=TestMasksStrings[cnt],\n",
    "                               MskPath=MSKS_PATH, Orientation=Orientations[0], ImgDepth=0, ImgSize=0).LoadScan()\n",
    "\n",
    "    Arr, Orig_Size, MetaData = LoadImages(ScanType=\"CT\", ScanClass=\"Image\", ScanName=TestImg,\n",
    "                                          ImgPath=IMGS_PATH, Orientations=Orientations).LoadScanEnsamble()\n",
    "\n",
    "    y_hat = RunModels(OutPath=OUTPUT_PATH, ScanName=\"P\"+TestImg, Scan=\"None\", Scans=Arr, Scan_Size=Orig_Size,\n",
    "                      Scan_Metadata=MetaData, Model=Model_ENS, Orientation=\"\", Threshold=0.5, Orientations=Orientations).runModels(Limit=True, ReturnArray=True, Verbose=0)\n",
    "    #y_hat = y_hat.numpy()\n",
    "    y_hat = tf.cast(y_hat, dtype='float32')\n",
    "    y_hat = y_hat.numpy()\n",
    "    TestMsk = tf.cast(TestMsk, dtype='float32')\n",
    "    TestMsk = TestMsk.numpy()\n",
    "    print(recall_score(TestMsk.flatten(), y_hat.flatten())*100)\n",
    "    cnt = cnt + 1"
   ]
  },
  {
   "cell_type": "markdown",
   "metadata": {},
   "source": [
    "## Run Ensemble Predict\n",
    "#### Dice"
   ]
  },
  {
   "cell_type": "code",
   "execution_count": null,
   "metadata": {},
   "outputs": [],
   "source": [
    "cnt = 0\n",
    "for TestImg in TestImgsStrings:\n",
    "    TestMsk, _, _ = LoadImages(ScanType=\"CT\", ScanClass=\"Mask\", ScanName=TestMasksStrings[cnt],\n",
    "                               MskPath=MSKS_PATH, Orientation=Orientations[0], ImgDepth=0, ImgSize=0).LoadScan()\n",
    "\n",
    "    Arr, Orig_Size, MetaData = LoadImages(ScanType=\"CT\", ScanClass=\"Image\", ScanName=TestImg,\n",
    "                                          ImgPath=IMGS_PATH, Orientations=Orientations).LoadScanEnsamble()\n",
    "\n",
    "    y_hat = RunModels(OutPath=OUTPUT_PATH, ScanName=\"P\"+TestImg, Scan=\"None\", Scans=Arr, Scan_Size=Orig_Size,\n",
    "                      Scan_Metadata=MetaData, Model=Model_ENS, Orientation=\"\", EnsModel=MyModel_Ens, Threshold=0.5,\n",
    "                      Orientations=Orientations).runEnsemble(Limit=True, ReturnArray=True, Verbose=0)\n",
    "    y_hat = tf.cast(y_hat, dtype='float32')\n",
    "    y_hat = y_hat.numpy()\n",
    "    TestMsk = tf.cast(TestMsk, dtype='float32')\n",
    "    TestMsk = TestMsk.numpy()\n",
    "    print(dice_coef(TestMsk, y_hat).numpy()*100)\n",
    "    cnt = cnt + 1"
   ]
  },
  {
   "cell_type": "markdown",
   "metadata": {},
   "source": [
    "#### Precison"
   ]
  },
  {
   "cell_type": "code",
   "execution_count": null,
   "metadata": {},
   "outputs": [],
   "source": [
    "cnt = 0\n",
    "for TestImg in TestImgsStrings:\n",
    "    TestMsk, _, _ = LoadImages(ScanType=\"CT\", ScanClass=\"Mask\", ScanName=TestMasksStrings[cnt],\n",
    "                               MskPath=MSKS_PATH, Orientation=Orientations[0], ImgDepth=0, ImgSize=0).LoadScan()\n",
    "\n",
    "    Arr, Orig_Size, MetaData = LoadImages(ScanType=\"CT\", ScanClass=\"Image\", ScanName=TestImg,\n",
    "                                          ImgPath=IMGS_PATH, Orientations=Orientations).LoadScanEnsamble()\n",
    "\n",
    "    y_hat = RunModels(OutPath=OUTPUT_PATH, ScanName=\"P\"+TestImg, Scan=\"None\", Scans=Arr, Scan_Size=Orig_Size,\n",
    "                      Scan_Metadata=MetaData, Model=Model_ENS, Orientation=\"\", EnsModel=MyModel_Ens, Threshold=0.5,\n",
    "                      Orientations=Orientations).runEnsemble(Limit=True, ReturnArray=True, Verbose=0)\n",
    "    y_hat = tf.cast(y_hat, dtype='float32')\n",
    "    y_hat = y_hat.numpy()\n",
    "    TestMsk = tf.cast(TestMsk, dtype='float32')\n",
    "    TestMsk = TestMsk.numpy()\n",
    "    print(precision_score(TestMsk.flatten(), y_hat.flatten())*100)\n",
    "    cnt = cnt + 1"
   ]
  },
  {
   "cell_type": "markdown",
   "metadata": {},
   "source": [
    "#### Recall"
   ]
  },
  {
   "cell_type": "code",
   "execution_count": null,
   "metadata": {},
   "outputs": [],
   "source": [
    "cnt = 0\n",
    "for TestImg in TestImgsStrings:\n",
    "    TestMsk, _, _ = LoadImages(ScanType=\"CT\", ScanClass=\"Mask\", ScanName=TestMasksStrings[cnt],\n",
    "                               MskPath=MSKS_PATH, Orientation=Orientations[0], ImgDepth=0, ImgSize=0).LoadScan()\n",
    "\n",
    "    Arr, Orig_Size, MetaData = LoadImages(ScanType=\"CT\", ScanClass=\"Image\", ScanName=TestImg,\n",
    "                                          ImgPath=IMGS_PATH, Orientations=Orientations).LoadScanEnsamble()\n",
    "\n",
    "    y_hat = RunModels(OutPath=OUTPUT_PATH, ScanName=\"P\"+TestImg, Scan=\"None\", Scans=Arr, Scan_Size=Orig_Size,\n",
    "                      Scan_Metadata=MetaData, Model=Model_ENS, Orientation=\"\", EnsModel=MyModel_Ens, Threshold=0.5,\n",
    "                      Orientations=Orientations).runEnsemble(Limit=True, ReturnArray=True, Verbose=0)\n",
    "    y_hat = tf.cast(y_hat, dtype='float32')\n",
    "    y_hat = y_hat.numpy()\n",
    "    TestMsk = tf.cast(TestMsk, dtype='float32')\n",
    "    TestMsk = TestMsk.numpy()\n",
    "    print(recall_score(TestMsk.flatten(), y_hat.flatten())*100)\n",
    "    cnt = cnt + 1"
   ]
  },
  {
   "cell_type": "markdown",
   "metadata": {},
   "source": [
    "## Vanilla Model Tests\n",
    "### Dice Coeff"
   ]
  },
  {
   "cell_type": "code",
   "execution_count": 14,
   "metadata": {},
   "outputs": [
    {
     "name": "stdout",
     "output_type": "stream",
     "text": [
      "Axial\n",
      "94.66692805290222\n",
      "89.59042429924011\n",
      "91.10270142555237\n",
      "91.58167243003845\n",
      "87.07539439201355\n",
      "93.33435297012329\n",
      "92.03633666038513\n",
      "91.23505353927612\n",
      "91.53825640678406\n",
      "95.33188939094543\n",
      "92.45620369911194\n",
      "92.0780599117279\n",
      "92.30145215988159\n",
      "92.74770617485046\n"
     ]
    }
   ],
   "source": [
    "model = MyModel_V\n",
    "Orientation = Orientations[0]\n",
    "print(Orientation)\n",
    "cnt=0\n",
    "for TestImg in TestImgsStrings:\n",
    "\n",
    "    TestImage, _, MetaData = LoadImages(ScanType=\"CT\", ScanClass=\"Image\", ScanName=TestImg,\n",
    "                                        ImgPath=IMGS_PATH, Orientation=Orientation).LoadScan()\n",
    "    TestImage = np.expand_dims(TestImage, axis=3)\n",
    "    TestMsk, Orig_Size, _ = LoadImages(ScanType=\"CT\", ScanClass=\"Mask\", ScanName=TestMasksStrings[cnt],\n",
    "                                       MskPath=MSKS_PATH, Orientation=Orientation).LoadScan()\n",
    "    TestMsk = tf.cast(TestMsk, dtype='float32')\n",
    "    TestMsk = np.expand_dims(TestMsk, axis=3)\n",
    "    y_hat = model.predict(TestImage, batch_size=10, verbose=0)\n",
    "    #y_hat[y_hat>threshold]  = 1\n",
    "    #y_hat[y_hat<threshold]  = 0\n",
    "    #y_hat[y_hat==threshold] = 1\n",
    "    #print(TestImg+\"\\t Dice Coeff: \" + str(dice_coef(TestMsk, y_hat).numpy()*100))\n",
    "    print(dice_coef(TestMsk, y_hat).numpy()*100)\n",
    "    cnt = cnt+1"
   ]
  },
  {
   "cell_type": "markdown",
   "metadata": {},
   "source": [
    "### Precison"
   ]
  },
  {
   "cell_type": "code",
   "execution_count": 15,
   "metadata": {},
   "outputs": [
    {
     "name": "stdout",
     "output_type": "stream",
     "text": [
      "Axial\n",
      "92.31842099702034\n",
      "89.08425434189752\n",
      "89.67953135768437\n",
      "93.9329649867212\n",
      "98.95230828554317\n",
      "97.57035173653861\n",
      "99.66148704520397\n",
      "87.2243080273701\n",
      "84.67269174401564\n",
      "93.97667686709123\n",
      "88.65863128397312\n",
      "87.93366326385022\n",
      "89.21965827021315\n",
      "89.85038232283702\n"
     ]
    }
   ],
   "source": [
    "cnt = 0\n",
    "ori = 0\n",
    "threshold = 0.5\n",
    "\n",
    "model = MyModel_V\n",
    "Orientation = Orientations[0]\n",
    "\n",
    "print(Orientation)\n",
    "for TestImg in TestImgsStrings:\n",
    "\n",
    "    TestImage, _, MetaData = LoadImages(ScanType=\"CT\", ScanClass=\"Image\", ScanName=TestImg,\n",
    "                                        ImgPath=IMGS_PATH, Orientation=Orientation).LoadScan()\n",
    "    TestImage = np.expand_dims(TestImage, axis=3)\n",
    "    TestMsk, Orig_Size, _ = LoadImages(ScanType=\"CT\", ScanClass=\"Mask\", ScanName=TestMasksStrings[cnt],\n",
    "                                       MskPath=MSKS_PATH, Orientation=Orientation).LoadScan()\n",
    "    TestMsk = tf.cast(TestMsk, dtype='float32')\n",
    "    TestMsk = np.expand_dims(TestMsk, axis=3)\n",
    "    y_hat = model.predict(TestImage, batch_size=10, verbose=0)\n",
    "\n",
    "    y_hat[y_hat > threshold] = 1\n",
    "    y_hat[y_hat < threshold] = 0\n",
    "    y_hat[y_hat == threshold] = 1\n",
    "\n",
    "    #print(TestImg+\"\\t Dice Coeff: \" + str(dice_coef(TestMsk, y_hat).numpy()*100))\n",
    "    TestMsk = np.squeeze(TestMsk)\n",
    "    y_hat = np.squeeze(y_hat)\n",
    "    print(precision_score(TestMsk.flatten(), y_hat.flatten()) * 100)\n",
    "    cnt = cnt+1"
   ]
  },
  {
   "cell_type": "markdown",
   "metadata": {},
   "source": [
    "#### Recall"
   ]
  },
  {
   "cell_type": "code",
   "execution_count": 16,
   "metadata": {},
   "outputs": [
    {
     "name": "stdout",
     "output_type": "stream",
     "text": [
      "Axial\n",
      "97.14368308113096\n",
      "90.1020571113337\n",
      "92.57859397927875\n",
      "89.34684455800583\n",
      "77.74418739565674\n",
      "89.4499212317087\n",
      "85.49314299225631\n",
      "95.63578690379664\n",
      "99.63183718718136\n",
      "96.73627286720335\n",
      "96.6080244869729\n",
      "96.6362191361346\n",
      "95.62517699625555\n",
      "95.8346377684126\n"
     ]
    }
   ],
   "source": [
    "cnt = 0\n",
    "ori = 0\n",
    "threshold = 0.5\n",
    "\n",
    "model = MyModel_V\n",
    "Orientation = Orientations[0]\n",
    "\n",
    "print(Orientation)\n",
    "for TestImg in TestImgsStrings:\n",
    "\n",
    "    TestImage, _, MetaData = LoadImages(ScanType=\"CT\", ScanClass=\"Image\", ScanName=TestImg,\n",
    "                                        ImgPath=IMGS_PATH, Orientation=Orientation).LoadScan()\n",
    "    TestImage = np.expand_dims(TestImage, axis=3)\n",
    "    TestMsk, Orig_Size, _ = LoadImages(ScanType=\"CT\", ScanClass=\"Mask\", ScanName=TestMasksStrings[cnt],\n",
    "                                       MskPath=MSKS_PATH, Orientation=Orientation).LoadScan()\n",
    "    TestMsk = tf.cast(TestMsk, dtype='float32')\n",
    "    TestMsk = np.expand_dims(TestMsk, axis=3)\n",
    "    y_hat = model.predict(TestImage, batch_size=10, verbose=0)\n",
    "\n",
    "    y_hat[y_hat > threshold] = 1\n",
    "    y_hat[y_hat < threshold] = 0\n",
    "    y_hat[y_hat == threshold] = 1\n",
    "\n",
    "    #print(TestImg+\"\\t Dice Coeff: \" + str(dice_coef(TestMsk, y_hat).numpy()*100))\n",
    "    TestMsk = np.squeeze(TestMsk)\n",
    "    y_hat = np.squeeze(y_hat)\n",
    "    print(recall_score(TestMsk.flatten(), y_hat.flatten()) * 100)\n",
    "    cnt = cnt+1"
   ]
  },
  {
   "cell_type": "markdown",
   "metadata": {},
   "source": [
    "## Run"
   ]
  },
  {
   "cell_type": "code",
   "execution_count": null,
   "metadata": {
    "scrolled": true
   },
   "outputs": [],
   "source": [
    "ImgPath = \"F:\\\\MyMasters\\\\Data\\\\TestingData\\\\imgs\"\n",
    "ScanName = \"CB_108_CT_M1\""
   ]
  },
  {
   "cell_type": "markdown",
   "metadata": {},
   "source": [
    "## Run Multiple Models On All Scans"
   ]
  },
  {
   "cell_type": "code",
   "execution_count": null,
   "metadata": {},
   "outputs": [],
   "source": [
    "ImgPath = \"F:\\\\MyMasters\\\\Data\\\\TrainingData\\\\imgs\"\n",
    "files = [f for f in listdir(ImgPath) if isfile(join(ImgPath, f))]\n",
    "for file in files:\n",
    "    Arr, Orig_Size, MetaData = LoadImages(ScanType=\"CT\", ScanClass=\"Image\", ScanName=file,\n",
    "                                          ImgPath=ImgPath, Orientations=Orientations).LoadScanEnsamble()\n",
    "    RunModels(OutPath=OUTPUT_PATH, ScanName=\"P\"+file, Scan=\"None\", Scans=Arr, Scan_Size=Orig_Size,\n",
    "              Scan_Metadata=MetaData, Model=[MyModel_Ax, MyModel_Sg, MyModel_Cor], Orientation=\"\", Orientations=Orientations).runModels(Limit=False)"
   ]
  },
  {
   "cell_type": "markdown",
   "metadata": {},
   "source": [
    "## Run Multiple Models On One Scan"
   ]
  },
  {
   "cell_type": "code",
   "execution_count": null,
   "metadata": {},
   "outputs": [],
   "source": [
    "ImgPath = \"F:\\\\MyMasters\\\\Data\\\\TestingData\\\\imgs\"\n",
    "ScanName = \"CB_080_CT_M1\"\n",
    "for i in range(0, 3):\n",
    "    TestImage, Orig_Size, MetaData = LoadImages(ScanType=\"CT\", ScanClass=\"Image\", ScanName=ScanName+\".nii.gz\",\n",
    "                                                ImgPath=\"F:\\\\MyMasters\\\\Data\\\\TestingData\\\\imgs\", Orientation=Orientations[i]).LoadScan()\n",
    "    RunModels(OutPath=OUTPUT_PATH, ScanName=\"P\"+ScanName, Scan=TestImage, Scans=\"None\", Scan_Size=Orig_Size,\n",
    "              Scan_Metadata=MetaData, Model=Model_ENS[i], Orientation=Orientations[i]).runModel()"
   ]
  },
  {
   "cell_type": "code",
   "execution_count": null,
   "metadata": {},
   "outputs": [],
   "source": [
    "ImgPath = \"F:\\\\MyMasters\\\\Data\\\\TestingData\\\\imgs\"\n",
    "files = [f for f in listdir(ImgPath) if isfile(join(ImgPath, f))]\n",
    "for file in files:\n",
    "    TestImage, Orig_Size, MetaData = LoadImages(ScanType=\"CT\", ScanClass=\"Image\", ScanName=file,\n",
    "                                                ImgPath=ImgPath, Orientation=Orientations[2]).LoadScan()\n",
    "    RunModels(OutPath=OUTPUT_PATH, ScanName=\"P\"+file, Scan=TestImage, Scans=\"\", Scan_Size=Orig_Size,\n",
    "              Scan_Metadata=MetaData, Model=MyModel_Cor, Orientation=\"Coronal\", Orientations=Orientations).runModel()"
   ]
  },
  {
   "cell_type": "code",
   "execution_count": null,
   "metadata": {},
   "outputs": [],
   "source": []
  }
 ],
 "metadata": {
  "kernelspec": {
   "display_name": "Python 3",
   "language": "python",
   "name": "python3"
  },
  "language_info": {
   "codemirror_mode": {
    "name": "ipython",
    "version": 3
   },
   "file_extension": ".py",
   "mimetype": "text/x-python",
   "name": "python",
   "nbconvert_exporter": "python",
   "pygments_lexer": "ipython3",
   "version": "3.7.7"
  },
  "varInspector": {
   "cols": {
    "lenName": 16,
    "lenType": 16,
    "lenVar": 40
   },
   "kernels_config": {
    "python": {
     "delete_cmd_postfix": "",
     "delete_cmd_prefix": "del ",
     "library": "var_list.py",
     "varRefreshCmd": "print(var_dic_list())"
    },
    "r": {
     "delete_cmd_postfix": ") ",
     "delete_cmd_prefix": "rm(",
     "library": "var_list.r",
     "varRefreshCmd": "cat(var_dic_list()) "
    }
   },
   "types_to_exclude": [
    "module",
    "function",
    "builtin_function_or_method",
    "instance",
    "_Feature"
   ],
   "window_display": false
  }
 },
 "nbformat": 4,
 "nbformat_minor": 4
}
