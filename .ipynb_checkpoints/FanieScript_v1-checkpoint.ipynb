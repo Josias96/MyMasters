{
 "cells": [
  {
   "cell_type": "markdown",
   "metadata": {},
   "source": [
    "# Lung Mask Script: Fanie Edition v2\n",
    "## Jandré Engelbrect"
   ]
  },
  {
   "cell_type": "markdown",
   "metadata": {},
   "source": [
    "#### Import Libraries and Functions"
   ]
  },
  {
   "cell_type": "code",
   "execution_count": 14,
   "metadata": {},
   "outputs": [],
   "source": [
    "from MyFunctions.CreatePaths import CreatePaths\n",
    "from MyFunctions.LoadImages import LoadImages\n",
    "from MyFunctions.RunModels import RunModels\n",
    "\n",
    "import UNets.MyImplementation.UNET_Adv7 as UNet\n",
    "\n",
    "import SimpleITK as sitk\n",
    "import tensorflow as tf\n",
    "import pandas as pd\n",
    "import numpy as np\n",
    "import importlib\n",
    "import os\n",
    "\n",
    "from os import listdir\n",
    "from os.path import isfile, join"
   ]
  },
  {
   "cell_type": "markdown",
   "metadata": {},
   "source": [
    "#### Create Helper Functions"
   ]
  },
  {
   "cell_type": "code",
   "execution_count": 15,
   "metadata": {},
   "outputs": [],
   "source": [
    "def loadWeights(modelStringName, batchnorm=True):\n",
    "    model = unet(batchnorm=batchnorm)\n",
    "    model.compile(optimizer=Adam(lr=1e-3),\n",
    "                  loss='binary_crossentropy', metrics=['accuracy'])\n",
    "    try:\n",
    "        model.load_weights(modelStringName)\n",
    "        return(model)\n",
    "        # print(\"Success!\")\n",
    "    except:\n",
    "        print(\"Error when loading weights..\")"
   ]
  },
  {
   "cell_type": "markdown",
   "metadata": {},
   "source": [
    "#### Important Default Variables"
   ]
  },
  {
   "cell_type": "code",
   "execution_count": 16,
   "metadata": {},
   "outputs": [],
   "source": [
    "# ===========================Don't Change===============================\n",
    "IMAGE_SIZE = 256\n",
    "CT_MIN = -1024\n",
    "CT_MAX = 3072\n",
    "MODEL_PATH = path.join(path.abspath(''), 'TrainedModels\\\\MyUNet\\\\')"
   ]
  },
  {
   "cell_type": "markdown",
   "metadata": {},
   "source": [
    "#### Load Models"
   ]
  },
  {
   "cell_type": "code",
   "execution_count": 17,
   "metadata": {},
   "outputs": [],
   "source": [
    "# ===========================Don't Change===============================\n",
    "MODEL_RL_AP = loadWeights(MODEL_PATH+\"MyUnet_BatchTrue_RL_AP_v1.hdf5\", batchnorm=True)\n",
    "MODEL_AP_SI = loadWeights(MODEL_PATH+\"MyUnet_BatchTrue_AP_SI_v1.hdf5\", batchnorm=True)\n",
    "MODEL_RL_SI = loadWeights(MODEL_PATH+\"MyUnet_BatchTrue_RL_SI_v1.hdf5\", batchnorm=True)\n",
    "\n",
    "MODELS_ENSEMBLE = [MODEL_RL_AP, MODEL_AP_SI, MODEL_RL_SI]\n",
    "ORIENTATION_ENSEMBLE = [\"RL_AP\", \"AP_SI\", \"RL_SI\"]"
   ]
  },
  {
   "cell_type": "code",
   "execution_count": 18,
   "metadata": {},
   "outputs": [],
   "source": [
    "# ==========================User Variables==============================\n",
    "Scan_Path = 'C:\\\\Users\\\\malherbe\\\\OneDrive - Stellenbosch University\\\\Jandre Masters\\\\CB_named_scans\\\\CB_093'      # Folder Location of  Images -> Change this!\n",
    "Scan_Name = 'CB_093_CT_M1.nii'                         # Scan Name -> Change this!\n",
    "Output_Path = 'C:\\\\Users\\\\malherbe\\\\OneDrive - Stellenbosch University\\\\Jandre Masters\\\\CB_named_scans\\\\CB_093' # Desired Output Location -> Change this!"
   ]
  },
  {
   "cell_type": "markdown",
   "metadata": {},
   "source": [
    "#### Run Models"
   ]
  },
  {
   "cell_type": "markdown",
   "metadata": {},
   "source": [
    "#### Note:\n",
    "##### The value MAX is the threshold minimum that the model uses to predict the lung mask. It corresponds to 50% certainty that a given pixel is part of the lungs. Can be changed as desired between 0-1"
   ]
  },
  {
   "cell_type": "code",
   "execution_count": 19,
   "metadata": {},
   "outputs": [
    {
     "name": "stdout",
     "output_type": "stream",
     "text": [
      "256/256 [==============================] - 373s 1s/step\n",
      "256/256 [==============================] - 371s 1s/step\n",
      "256/256 [==============================] - 370s 1s/step\n",
      "Done!\n"
     ]
    }
   ],
   "source": [
    "runModels(Scan_Path, Output_Path,\n",
    "          Scan_Name, MODELS_ENSEMBLE, 5, IMAGE_SIZE, CT_MAX,\n",
    "          CT_MIN, ORIENTATION_ENSEMBLE, MAX=0.7, VERSION=\"v1\")"
   ]
  },
  {
   "cell_type": "code",
   "execution_count": null,
   "metadata": {},
   "outputs": [],
   "source": []
  },
  {
   "cell_type": "code",
   "execution_count": null,
   "metadata": {},
   "outputs": [],
   "source": []
  },
  {
   "cell_type": "code",
   "execution_count": null,
   "metadata": {},
   "outputs": [],
   "source": []
  }
 ],
 "metadata": {
  "kernelspec": {
   "display_name": "Python 3",
   "language": "python",
   "name": "python3"
  },
  "language_info": {
   "codemirror_mode": {
    "name": "ipython",
    "version": 3
   },
   "file_extension": ".py",
   "mimetype": "text/x-python",
   "name": "python",
   "nbconvert_exporter": "python",
   "pygments_lexer": "ipython3",
   "version": "3.7.7"
  },
  "varInspector": {
   "cols": {
    "lenName": 16,
    "lenType": 16,
    "lenVar": 40
   },
   "kernels_config": {
    "python": {
     "delete_cmd_postfix": "",
     "delete_cmd_prefix": "del ",
     "library": "var_list.py",
     "varRefreshCmd": "print(var_dic_list())"
    },
    "r": {
     "delete_cmd_postfix": ") ",
     "delete_cmd_prefix": "rm(",
     "library": "var_list.r",
     "varRefreshCmd": "cat(var_dic_list()) "
    }
   },
   "types_to_exclude": [
    "module",
    "function",
    "builtin_function_or_method",
    "instance",
    "_Feature"
   ],
   "window_display": false
  }
 },
 "nbformat": 4,
 "nbformat_minor": 4
}
