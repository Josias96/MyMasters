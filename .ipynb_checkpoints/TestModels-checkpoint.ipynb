{
 "cells": [
  {
   "cell_type": "markdown",
   "metadata": {},
   "source": [
    "# Test Models"
   ]
  },
  {
   "cell_type": "code",
   "execution_count": null,
   "metadata": {},
   "outputs": [],
   "source": [
    "from jupyterthemes import jtplot\n",
    "from skimage.util import montage as montage2d\n",
    "from tensorflow.keras.optimizers import Adam\n",
    "import UNets.MyImplementation.UNET_Adv7 as UNet\n",
    "\n",
    "from MyFunctions.CreatePaths import CreatePaths\n",
    "from MyFunctions.LoadImages import LoadImages\n",
    "from MyFunctions.RunModels import RunModels\n",
    "\n",
    "import SimpleITK as sitk\n",
    "import tensorflow as tf\n",
    "import pandas as pd\n",
    "import numpy as np\n",
    "import importlib\n",
    "import os\n",
    "\n",
    "import matplotlib.pyplot as plt\n",
    "import matplotlib as mpl\n",
    "\n",
    "def showCTMontage(IMG, SIZE):\n",
    "    plt.figure(figsize=(SIZE, SIZE))\n",
    "    plt.imshow(montage2d(IMG), alpha=1, cmap='gray')\n",
    "    plt.axis('off')\n",
    "    plt.show()"
   ]
  },
  {
   "cell_type": "code",
   "execution_count": null,
   "metadata": {},
   "outputs": [],
   "source": [
    "# Change Class Variable below for different paths e.g. CT/PET\n",
    "path = CreatePaths(DeviceFlag=\"PC\", ScanTypeFlag=\"CT\", TrainTestFlag=\"Train\")\n",
    "\n",
    "DATA_PATH = \"F://MyMasters//Data//TrainingData\"\n",
    "IMGS_PATH = \"F://MyMasters//Data//TrainingData//imgs\"\n",
    "MSKS_PATH = \"F://MyMasters//Data//TrainingData//masks\"\n",
    "OUTPUT_PATH = \"F://MyMasters//Output\"\n",
    "\n",
    "print(\"Image Path: \"+\"\\t\"+IMGS_PATH+\"\\n\"+\"Mask Path: \" +\n",
    "      \"\\t\"+MSKS_PATH+\"\\n\"+\"Output Path: \"+\"\\t\"+OUTPUT_PATH)\n",
    "\n",
    "ScanType = \"CT\"\n",
    "Orientation = \"Sagittal\"\n",
    "Orientations = [\"Sagittal\",\"Axial\"]"
   ]
  },
  {
   "cell_type": "code",
   "execution_count": null,
   "metadata": {},
   "outputs": [],
   "source": [
    "def dice_coef(y_true, y_pred, smooth=1):\n",
    "    y_true_f = tf.keras.backend.flatten(y_true)\n",
    "    y_pred_f = tf.keras.backend.flatten(y_pred)\n",
    "    intersection = tf.keras.backend.sum(y_true_f * y_pred_f)\n",
    "    return (2. * intersection + smooth) / (tf.keras.backend.sum(y_true_f) + tf.keras.backend.sum(y_pred_f) + smooth)\n",
    "\n",
    "\n",
    "def dice_coef_loss(y_true, y_pred):\n",
    "    return 1 - dice_coef(y_true, y_pred)\n",
    "\n",
    "MyModel_Ax = UNet.UNet_Adv(input_shape=(256, 256, 1),\n",
    "                        n_filters=32, activation=tf.keras.layers.LeakyReLU(), showSummary=False).CreateUnet()\n",
    "MyModel_Ax.compile(optimizer=Adam(learning_rate=1e-4),\n",
    "                loss=dice_coef_loss, metrics=[tf.keras.metrics.MeanIoU(num_classes=2)])\n",
    "MyModel_Ax.load_weights(\n",
    "    \"F://MyMasters//Code//Josias-Masters//TrainedModels//U-Net_7_2_Axial.h5\")\n",
    "\n",
    "MyModel_Sg = UNet.UNet_Adv(input_shape=(256, 256, 1),\n",
    "                        n_filters=32, activation=tf.keras.layers.LeakyReLU(), showSummary=False).CreateUnet()\n",
    "MyModel_Sg.compile(optimizer=Adam(learning_rate=1e-4),\n",
    "                loss=dice_coef_loss, metrics=[tf.keras.metrics.MeanIoU(num_classes=2)])\n",
    "MyModel_Sg.load_weights(\n",
    "    \"F://MyMasters//Code//Josias-Masters//TrainedModels//U-Net_7_2_Sagittal.h5\")"
   ]
  },
  {
   "cell_type": "code",
   "execution_count": null,
   "metadata": {},
   "outputs": [],
   "source": []
  },
  {
   "cell_type": "markdown",
   "metadata": {},
   "source": [
    "## Run Multiple Models On One Scan"
   ]
  },
  {
   "cell_type": "code",
   "execution_count": null,
   "metadata": {},
   "outputs": [],
   "source": [
    "ScanName = \"CB_086_CT_M0\"\n",
    "Arr, Orig_Size, MetaData = LoadImages(ScanType=\"CT\", ScanClass=\"Image\", ScanName=ScanName+\".nii.gz\",\n",
    "                                            ImgPath=\"F:\\\\MyMasters\\\\Data\\\\TestingData\\\\imgs\", Orientations=Orientations).LoadScanEnsamble()\n",
    "RunModels(OutPath=OUTPUT_PATH, ScanName=\"P\"+ScanName, Scan=\"None\",Scans=Arr, Scan_Size=Orig_Size,\n",
    "          Scan_Metadata=MetaData, Model=[MyModel_Ax,MyModel_Sg], Orientation=\"\", Orientations=Orientations).runModels()"
   ]
  },
  {
   "cell_type": "code",
   "execution_count": null,
   "metadata": {
    "scrolled": true
   },
   "outputs": [],
   "source": [
    "#showCTMontage(Arr[80:89,:,:,1],SIZE=15)"
   ]
  },
  {
   "cell_type": "code",
   "execution_count": null,
   "metadata": {},
   "outputs": [],
   "source": [
    "ScanName = \"CB_086_CT_M0\"\n",
    "TestImage, Orig_Size, MetaData = LoadImages(ScanType=\"CT\", ScanClass=\"Image\", ScanName=ScanName+\".nii.gz\",\n",
    "                                            ImgPath=\"F:\\\\MyMasters\\\\Data\\\\TestingData\\\\imgs\", Orientation=Orientation).LoadScan()"
   ]
  },
  {
   "cell_type": "code",
   "execution_count": null,
   "metadata": {},
   "outputs": [],
   "source": []
  }
 ],
 "metadata": {
  "kernelspec": {
   "display_name": "Python 3",
   "language": "python",
   "name": "python3"
  },
  "language_info": {
   "codemirror_mode": {
    "name": "ipython",
    "version": 3
   },
   "file_extension": ".py",
   "mimetype": "text/x-python",
   "name": "python",
   "nbconvert_exporter": "python",
   "pygments_lexer": "ipython3",
   "version": "3.7.7"
  },
  "varInspector": {
   "cols": {
    "lenName": 16,
    "lenType": 16,
    "lenVar": 40
   },
   "kernels_config": {
    "python": {
     "delete_cmd_postfix": "",
     "delete_cmd_prefix": "del ",
     "library": "var_list.py",
     "varRefreshCmd": "print(var_dic_list())"
    },
    "r": {
     "delete_cmd_postfix": ") ",
     "delete_cmd_prefix": "rm(",
     "library": "var_list.r",
     "varRefreshCmd": "cat(var_dic_list()) "
    }
   },
   "types_to_exclude": [
    "module",
    "function",
    "builtin_function_or_method",
    "instance",
    "_Feature"
   ],
   "window_display": false
  }
 },
 "nbformat": 4,
 "nbformat_minor": 4
}
