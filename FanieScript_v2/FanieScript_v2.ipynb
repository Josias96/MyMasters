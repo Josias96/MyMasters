{
 "cells": [
  {
   "cell_type": "markdown",
   "metadata": {},
   "source": [
    "# Run AI Lung Segmentation\n",
    "## JA Engelbrecht"
   ]
  },
  {
   "cell_type": "markdown",
   "metadata": {},
   "source": [
    "#### Import Libraries and Functions"
   ]
  },
  {
   "cell_type": "code",
   "execution_count": null,
   "metadata": {},
   "outputs": [],
   "source": [
    "# ===========================Don't Change===============================\n",
    "import UNets.MyImplementation.UNET_Adv7 as UNet\n",
    "from tensorflow.keras.optimizers import Adam\n",
    "\n",
    "from MyFunctions.CreatePaths import CreatePaths\n",
    "from MyFunctions.LoadImages import LoadImages\n",
    "from MyFunctions.RunModels import RunModels\n",
    "\n",
    "import SimpleITK as sitk\n",
    "import tensorflow as tf\n",
    "import pandas as pd\n",
    "import numpy as np\n",
    "import importlib\n",
    "import os\n",
    "\n",
    "from os import listdir\n",
    "from os.path import isfile, join"
   ]
  },
  {
   "cell_type": "code",
   "execution_count": null,
   "metadata": {},
   "outputs": [],
   "source": [
    "print(tf.__version__)"
   ]
  },
  {
   "cell_type": "markdown",
   "metadata": {},
   "source": [
    "#### Create Helper Functions"
   ]
  },
  {
   "cell_type": "code",
   "execution_count": null,
   "metadata": {},
   "outputs": [],
   "source": [
    "# ===========================Don't Change===============================\n",
    "def dice_coef(y_true, y_pred, smooth=1):\n",
    "    y_true_f = tf.keras.backend.flatten(y_true)\n",
    "    y_pred_f = tf.keras.backend.flatten(y_pred)\n",
    "    intersection = tf.keras.backend.sum(y_true_f * y_pred_f)\n",
    "    return (2. * intersection + smooth) / (tf.keras.backend.sum(y_true_f) + tf.keras.backend.sum(y_pred_f) + smooth)\n",
    "\n",
    "\n",
    "def dice_coef_loss(y_true, y_pred):\n",
    "    return 1 - dice_coef(y_true, y_pred)\n",
    "\n",
    "\n",
    "def loadWeights(modelStringName):\n",
    "    model = UNet.UNet_Adv(input_shape=(256, 256, 1),\n",
    "                          n_filters=32, activation=tf.keras.layers.LeakyReLU(), showSummary=False).CreateUnet()\n",
    "    model.compile(optimizer=Adam(learning_rate=1e-4),\n",
    "                  loss=dice_coef_loss, metrics=[tf.keras.metrics.MeanIoU(num_classes=2)])\n",
    "    try:\n",
    "        model.load_weights(modelStringName)\n",
    "        return(model)\n",
    "        # print(\"Success!\")\n",
    "    except:\n",
    "        print(\"Error when loading weights..\")"
   ]
  },
  {
   "cell_type": "markdown",
   "metadata": {},
   "source": [
    "#### Initialise Default Variables"
   ]
  },
  {
   "cell_type": "code",
   "execution_count": null,
   "metadata": {},
   "outputs": [],
   "source": [
    "# ===========================Don't Change===============================\n",
    "MODEL_PATH = os.path.join(os.path.abspath(''), 'TrainedModels\\\\')\n",
    "Orientations = [\"Axial\", \"Sagittal\", \"Coronal\"]"
   ]
  },
  {
   "cell_type": "markdown",
   "metadata": {},
   "source": [
    "#### Load Models"
   ]
  },
  {
   "cell_type": "code",
   "execution_count": null,
   "metadata": {},
   "outputs": [],
   "source": [
    "Model_Axial = loadWeights(MODEL_PATH+\"U-Net_7_2_Axial.h5\")\n",
    "Model_Sagittal = loadWeights(MODEL_PATH+\"U-Net_7_2_Sagittal.h5\")\n",
    "Model_Coronal = loadWeights(MODEL_PATH+\"U-Net_7_2_Coronal.h5\")\n",
    "\n",
    "Models = [Model_Axial, Model_Sagittal, Model_Coronal]"
   ]
  },
  {
   "cell_type": "markdown",
   "metadata": {},
   "source": [
    "#### User Vairables"
   ]
  },
  {
   "cell_type": "code",
   "execution_count": null,
   "metadata": {},
   "outputs": [],
   "source": [
    "# ==========================User Variables==============================\n",
    "# Folder Location of  Images -> Change this!\n",
    "Scan_Path = 'C:\\\\Users\\\\malherbe\\\\OneDrive - Stellenbosch University\\\\Jandre Masters\\\\CB_named_scans\\\\CB_100'\n",
    "# Scan Name -> Change this!\n",
    "Scan_Name = 'CB_100_CT_m1.nii'\n",
    "# Desired Output Location -> Change this!\n",
    "Output_Path = 'C:\\\\Users\\\\malherbe\\\\OneDrive - Stellenbosch University\\\\Jandre Masters\\\\CB_named_scans\\\\CB_100'"
   ]
  },
  {
   "cell_type": "markdown",
   "metadata": {},
   "source": [
    "#### Run Models"
   ]
  },
  {
   "cell_type": "code",
   "execution_count": null,
   "metadata": {},
   "outputs": [],
   "source": [
    "Arr, Orig_Size, MetaData = LoadImages(ScanType=\"CT\", ScanClass=\"Image\", ScanName=Scan_Name,\n",
    "                                      ImgPath=Scan_Path, Orientations=Orientations).LoadScanEnsamble()\n",
    "RunModels(OutPath=Output_Path, ScanName=\"E\"+Scan_Name, Scan=\"None\", Scans=Arr, Scan_Size=Orig_Size,\n",
    "          Scan_Metadata=MetaData, Model=Models, Orientation=\"\", Orientations=Orientations, Threshold=0.5, Batch_Size=5).runModels(Limit=True)"
   ]
  },
  {
   "cell_type": "markdown",
   "metadata": {},
   "source": [
    "#### Run the following to get all three predictions separately"
   ]
  },
  {
   "cell_type": "code",
   "execution_count": null,
   "metadata": {},
   "outputs": [],
   "source": [
    "for i in range(0,3):\n",
    "    TestImage, Orig_Size, MetaData = LoadImages(ScanType=\"CT\", ScanClass=\"Image\", ScanName=Scan_Name,\n",
    "                                                ImgPath=Scan_Path, Orientation=Orientations[i]).LoadScan()\n",
    "    RunModels(OutPath=Output_Path, ScanName=\"P\"+Scan_Name, Scan=TestImage,Scans=\"None\", Scan_Size=Orig_Size,\n",
    "                  Scan_Metadata=MetaData, Model=Models[i], Orientation=Orientations[i]).runModel()"
   ]
  },
  {
   "cell_type": "code",
   "execution_count": null,
   "metadata": {},
   "outputs": [],
   "source": []
  }
 ],
 "metadata": {
  "kernelspec": {
   "display_name": "Python 3",
   "language": "python",
   "name": "python3"
  },
  "language_info": {
   "codemirror_mode": {
    "name": "ipython",
    "version": 3
   },
   "file_extension": ".py",
   "mimetype": "text/x-python",
   "name": "python",
   "nbconvert_exporter": "python",
   "pygments_lexer": "ipython3",
   "version": "3.7.7"
  },
  "varInspector": {
   "cols": {
    "lenName": 16,
    "lenType": 16,
    "lenVar": 40
   },
   "kernels_config": {
    "python": {
     "delete_cmd_postfix": "",
     "delete_cmd_prefix": "del ",
     "library": "var_list.py",
     "varRefreshCmd": "print(var_dic_list())"
    },
    "r": {
     "delete_cmd_postfix": ") ",
     "delete_cmd_prefix": "rm(",
     "library": "var_list.r",
     "varRefreshCmd": "cat(var_dic_list()) "
    }
   },
   "types_to_exclude": [
    "module",
    "function",
    "builtin_function_or_method",
    "instance",
    "_Feature"
   ],
   "window_display": false
  }
 },
 "nbformat": 4,
 "nbformat_minor": 4
}