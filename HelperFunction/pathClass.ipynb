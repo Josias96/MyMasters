{
 "cells": [
  {
   "cell_type": "code",
   "execution_count": null,
   "metadata": {},
   "outputs": [],
   "source": [
    "class CreatePaths:\n",
    "\n",
    "    def __init__(self, DeviceFlag, ScanTypeFlag, TrainTestFlag, PET_Type = \"Heart\"):\n",
    "\n",
    "        \"\"\" \n",
    "            DeviceFlag   = \"PC\" for PC, DeviceFlag   = \"Laptop\" for Laptop\n",
    "            ScanTypeFlag = \"CT\" for CT, ScanTypeFlag = \"PET\" for PET   \n",
    "            TrainTestFlag = \"Train\" for Train, \"Test\"\n",
    "        \"\"\" \n",
    "\n",
    "        self.Device = DeviceFlag\n",
    "        self.TrainTest = TrainTestFlag\n",
    "        self.ScanType = ScanTypeFlag\n",
    "        self.data_path = self.dataPath()\n",
    "\n",
    "    def dataPath(self):\n",
    "        if self.Device == \"PC\":\n",
    "            DATA_PATH = \"D:/Masters_Repo\"\n",
    "        elif self.Device == \"Laptop\": \n",
    "            DATA_PATH = \"C:/Users/JANDRE/Documents/DataRepository/\"\n",
    "        else:\n",
    "            print(\"\\nError: Device Flag input should be PC or Laptop.\\n\")\n",
    "\n",
    "        if self.TrainTest == \"Train\":\n",
    "            DATA_PATH = DATA_PATH + \"/TrainingData\"\n",
    "        elif self.ScanType == \"Test\": \n",
    "            DATA_PATH = DATA_PATH + \"/TestingData\"\n",
    "        else:\n",
    "            print(\"\\nError: TrainTest Flag input should be Train or Test.\\n\")\n",
    "\n",
    "        if self.ScanType == \"CT\":\n",
    "            DATA_PATH = DATA_PATH + \"/CT\"\n",
    "        elif self.ScanType == \"PET\": \n",
    "            DATA_PATH = DATA_PATH + \"/PET\"\n",
    "        else:\n",
    "            print(\"\\nError: Scan Type Flag input should be CT or PET.\\n\")\n",
    "        return DATA_PATH\n",
    "\n",
    "    def imgPath(self):\n",
    "        IMG_PATH = self.data_path + \"/imgs\"\n",
    "        IMG_PATH = IMG_PATH.replace(\"\\\\\",\"/\")\n",
    "        return IMG_PATH\n",
    "\n",
    "    def mskPath(self):\n",
    "        MSK_PATH = self.data_path + \"/masks\"\n",
    "        MSK_PATH = MSK_PATH.replace(\"\\\\\",\"/\")\n",
    "        return MSK_PATH\n",
    "\n",
    "    def outputPath(self):       \n",
    "        if self.Device == \"PC\":\n",
    "            DATA_PATH = \"D:/Output\"\n",
    "        elif self.Device == \"Laptop\": \n",
    "            DATA_PATH = _\n",
    "        else:\n",
    "            print(\"\\nError: Device Flag input should be PC or Laptop.\\n\")\n",
    "\n",
    "        if self.ScanType == \"CT\":\n",
    "            DATA_PATH + \"/CT\"\n",
    "        elif self.ScanType == \"PET\": \n",
    "            DATA_PATH + \"/PET\"\n",
    "        else:\n",
    "            print(\"\\nError: Scan Type Flag input should be CT or PET.\\n\")\n",
    "        return DATA_PATH\n",
    "    "
   ]
  }
 ],
 "metadata": {
  "kernelspec": {
   "display_name": "Python 3",
   "language": "python",
   "name": "python3"
  },
  "language_info": {
   "codemirror_mode": {
    "name": "ipython",
    "version": 3
   },
   "file_extension": ".py",
   "mimetype": "text/x-python",
   "name": "python",
   "nbconvert_exporter": "python",
   "pygments_lexer": "ipython3",
   "version": "3.7.7"
  },
  "toc": {
   "base_numbering": 1,
   "nav_menu": {},
   "number_sections": true,
   "sideBar": true,
   "skip_h1_title": false,
   "title_cell": "Table of Contents",
   "title_sidebar": "Contents",
   "toc_cell": false,
   "toc_position": {},
   "toc_section_display": true,
   "toc_window_display": false
  },
  "varInspector": {
   "cols": {
    "lenName": 16,
    "lenType": 16,
    "lenVar": 40
   },
   "kernels_config": {
    "python": {
     "delete_cmd_postfix": "",
     "delete_cmd_prefix": "del ",
     "library": "var_list.py",
     "varRefreshCmd": "print(var_dic_list())"
    },
    "r": {
     "delete_cmd_postfix": ") ",
     "delete_cmd_prefix": "rm(",
     "library": "var_list.r",
     "varRefreshCmd": "cat(var_dic_list()) "
    }
   },
   "types_to_exclude": [
    "module",
    "function",
    "builtin_function_or_method",
    "instance",
    "_Feature"
   ],
   "window_display": false
  }
 },
 "nbformat": 4,
 "nbformat_minor": 4
}
