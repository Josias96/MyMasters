{
 "cells": [
  {
   "cell_type": "code",
   "execution_count": null,
   "metadata": {},
   "outputs": [],
   "source": [
    "import tensorflow as tf\n",
    "import tensorflow.keras\n",
    "\n",
    "from tensorflow.keras.layers import Activation\n",
    "from tensorflow.keras.layers import Input\n",
    "from tensorflow.keras.layers import Conv2D\n",
    "from tensorflow.keras.layers import MaxPool2D\n",
    "from tensorflow.keras.layers import UpSampling2D\n",
    "from tensorflow.keras.layers import concatenate\n",
    "\n",
    "\n",
    "class UNet_Vanilla:\n",
    "    def __init__(self, input_shape,showSummary=True):\n",
    "        self.input_shape = input_shape\n",
    "        self.showSummary = showSummary\n",
    "        \n",
    "    def Conv2D_block(self,input_tensor, kernel_size, filters):\n",
    "        conv = Conv2D(filters=filters, kernel_size=kernel_size,\n",
    "                    kernel_initializer=\"he_normal\", padding=\"same\")(input_tensor)\n",
    "        conv = Activation(\"relu\")(conv)\n",
    "        conv = Conv2D(filters=filters, kernel_size=kernel_size,\n",
    "                    kernel_initializer=\"he_normal\", padding=\"same\")(conv)\n",
    "        conv = Activation(\"relu\")(conv)\n",
    "        return conv\n",
    "\n",
    "\n",
    "    def UpConvolution(self,input_tensor, skip_tensor, kernel_size, filters):\n",
    "        upconv = Conv2D(filters=filters, kernel_size=kernel_size, kernel_initializer=\"he_normal\",\n",
    "                        padding=\"same\")(UpSampling2D(size=(2, 2))(input_tensor))\n",
    "        upconv = Activation(\"relu\")(upconv)\n",
    "        upconv = concatenate([upconv, skip_tensor])\n",
    "        return upconv\n",
    "\n",
    "\n",
    "    def CreateUnet(self):\n",
    "\n",
    "        input_layer = Input(self.input_shape)\n",
    "\n",
    "        c1 = self.Conv2D_block(input_layer, kernel_size=(3, 3), filters=64)\n",
    "        p1 = MaxPool2D(pool_size=(2, 2))(c1)\n",
    "\n",
    "        c2 = self.Conv2D_block(p1, kernel_size=(3, 3), filters=128)\n",
    "        p2 = MaxPool2D(pool_size=(2, 2))(c2)\n",
    "\n",
    "        c3 = self.Conv2D_block(p2, kernel_size=(3, 3), filters=256)\n",
    "        p3 = MaxPool2D(pool_size=(2, 2))(c3)\n",
    "\n",
    "        c4 = self.Conv2D_block(p3, kernel_size=(3, 3), filters=512)\n",
    "        p4 = MaxPool2D(pool_size=(2, 2))(c4)\n",
    "\n",
    "        c5 = self.Conv2D_block(p4, kernel_size=(3, 3), filters=1024)\n",
    "        d5 = tensorflow.keras.layers.Dropout(0.2)(c5)\n",
    "\n",
    "        u1 = self.UpConvolution(d5, c4, kernel_size=(3, 3), filters=512)\n",
    "        c6 = self.Conv2D_block(u1, kernel_size=(3, 3), filters=512)\n",
    "\n",
    "        u2 = self.UpConvolution(c6, c3, kernel_size=(3, 3), filters=256)\n",
    "        c7 = self.Conv2D_block(u2, kernel_size=(3, 3), filters=256)\n",
    "\n",
    "        u3 = self.UpConvolution(c7, c2, kernel_size=(3, 3), filters=128)\n",
    "        c8 = self.Conv2D_block(u3, kernel_size=(3, 3), filters=128)\n",
    "\n",
    "        u4 = self.UpConvolution(c8, c1, kernel_size=(3, 3), filters=64)\n",
    "        c9 = self.Conv2D_block(u4, kernel_size=(3, 3), filters=64)\n",
    "\n",
    "        output_layer = Conv2D(filters=1, kernel_size=(1, 1),\n",
    "                            activation=\"sigmoid\")(c9)\n",
    "\n",
    "        MyModel = tensorflow.keras.models.Model(\n",
    "            inputs=input_layer, outputs=output_layer)\n",
    "\n",
    "        if self.showSummary:\n",
    "            MyModel.summary()\n",
    "        return MyModel\n"
   ]
  }
 ],
 "metadata": {
  "kernelspec": {
   "display_name": "Python 3",
   "language": "python",
   "name": "python3"
  },
  "language_info": {
   "codemirror_mode": {
    "name": "ipython",
    "version": 3
   },
   "file_extension": ".py",
   "mimetype": "text/x-python",
   "name": "python",
   "nbconvert_exporter": "python",
   "pygments_lexer": "ipython3",
   "version": "3.7.7"
  },
  "toc": {
   "base_numbering": 1,
   "nav_menu": {},
   "number_sections": true,
   "sideBar": true,
   "skip_h1_title": false,
   "title_cell": "Table of Contents",
   "title_sidebar": "Contents",
   "toc_cell": false,
   "toc_position": {},
   "toc_section_display": true,
   "toc_window_display": false
  },
  "varInspector": {
   "cols": {
    "lenName": 16,
    "lenType": 16,
    "lenVar": 40
   },
   "kernels_config": {
    "python": {
     "delete_cmd_postfix": "",
     "delete_cmd_prefix": "del ",
     "library": "var_list.py",
     "varRefreshCmd": "print(var_dic_list())"
    },
    "r": {
     "delete_cmd_postfix": ") ",
     "delete_cmd_prefix": "rm(",
     "library": "var_list.r",
     "varRefreshCmd": "cat(var_dic_list()) "
    }
   },
   "types_to_exclude": [
    "module",
    "function",
    "builtin_function_or_method",
    "instance",
    "_Feature"
   ],
   "window_display": false
  }
 },
 "nbformat": 4,
 "nbformat_minor": 4
}
