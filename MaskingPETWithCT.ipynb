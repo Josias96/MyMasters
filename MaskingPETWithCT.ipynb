{
 "metadata": {
  "language_info": {
   "codemirror_mode": {
    "name": "ipython",
    "version": 3
   },
   "file_extension": ".py",
   "mimetype": "text/x-python",
   "name": "python",
   "nbconvert_exporter": "python",
   "pygments_lexer": "ipython3",
   "version": "3.7.7-final"
  },
  "orig_nbformat": 2,
  "kernelspec": {
   "name": "python3",
   "display_name": "Python 3.7.7 64-bit ('MyMasters': conda)",
   "metadata": {
    "interpreter": {
     "hash": "d8265bed6799d0b3fba5aa1cccc33d22252c6f1298c52c648030eb5f7a945c4b"
    }
   }
  }
 },
 "nbformat": 4,
 "nbformat_minor": 2,
 "cells": [
  {
   "cell_type": "code",
   "execution_count": 1,
   "metadata": {},
   "outputs": [],
   "source": [
    "import numpy as np\n",
    "from os import listdir\n",
    "from os.path import isfile, join\n",
    "import SimpleITK as sitk\n",
    "from MyFunctions.LoadImages import LoadImages"
   ]
  },
  {
   "source": [
    "# Mask PET with CT"
   ],
   "cell_type": "markdown",
   "metadata": {}
  },
  {
   "cell_type": "code",
   "execution_count": null,
   "metadata": {},
   "outputs": [],
   "source": [
    "pathCT_Msk = \"../../../Masters_Repo/TrainingData/PET/Process/CT_Msk/\"\n",
    "pathPET = \"../../../Masters_Repo/TrainingData/PET/Process/PET_Img/\"\n",
    "\n",
    "def getFiles(path):\n",
    "    return [f for f in listdir(path) if isfile(join(path,f))]\n",
    "\n",
    "files_CT_Msk = getFiles(pathCT_Msk)\n",
    "files_PET = getFiles(pathPET)"
   ]
  },
  {
   "cell_type": "code",
   "execution_count": null,
   "metadata": {},
   "outputs": [],
   "source": [
    "\n",
    "def SetMetadata(Scan_Metadata,IMAGE):\n",
    "        \"\"\"Sets a given IMAGE with a given METADATA\"\"\"\n",
    "        IMAGE.SetSpacing(Scan_Metadata[0])\n",
    "        IMAGE.SetOrigin(Scan_Metadata[1])\n",
    "        IMAGE.SetDirection(Scan_Metadata[2])\n",
    "\n",
    "def maskPET(PETfilenames, CTfilenames , PETdirPath, CTdirPath):\n",
    "    if(np.size(PETfilenames) == np.size(CTfilenames)):\n",
    "        for i in range(np.size(PETfilenames)):\n",
    "            curr_PET = PETfilenames[i]\n",
    "            curr_CT = CTfilenames[i]\n",
    "            PET_file,_,PET_Meta = LoadImages(ScanType=\"PET\", ScanClass=\"Image\",\n",
    "                       ImgPath=PETdirPath ,ScanName=curr_PET, n_Scans=1, ImgSize=0, ImgDepth=0, Orientation=\"Axial\").LoadScan()\n",
    "            CT_msk_file,_,_ = LoadImages(ScanType=\"CT\", ScanClass=\"Mask\",\n",
    "                       MskPath=CTdirPath,ScanName=curr_CT, n_Scans=1, ImgSize=0, ImgDepth=0, Orientation=\"Axial\").LoadScan()\n",
    "            PET_Msked = PET_file*CT_msk_file\n",
    "            Model_Out = sitk.GetImageFromArray(PET_Msked)\n",
    "            SetMetadata(PET_Meta, Model_Out)\n",
    "            WritePath = join('../../../Masters_Repo/TrainingData/PET/Process/PET_Msk_Uncorrected', curr_PET)\n",
    "            sitk.WriteImage(Model_Out,WritePath)\n",
    "    else:\n",
    "        return print(\"Error: Differering number of PET and CT masks. Cannot mask!\")\n",
    "maskPET(files_PET,files_CT_Msk, pathPET ,pathCT_Msk)\n",
    "print(\"Done! Check if masking process was correct..\")"
   ]
  },
  {
   "source": [
    "# Subtract CT Msk with PET msk"
   ],
   "cell_type": "markdown",
   "metadata": {}
  },
  {
   "cell_type": "code",
   "execution_count": 3,
   "metadata": {},
   "outputs": [],
   "source": [
    "pathCT_Msk = \"../../../Masters_Repo/TrainingData/PET/Process/CT_Msk/\"\n",
    "pathPET_Msk = \"../../../Masters_Repo/TrainingData/PET/Process/PET_Msk_Corrected/\"\n",
    "\n",
    "def getFiles(path):\n",
    "    return [f for f in listdir(path) if isfile(join(path,f))]\n",
    "\n",
    "files_CT_Msk = getFiles(pathCT_Msk)\n",
    "files_PET_Msk = getFiles(pathPET_Msk)"
   ]
  },
  {
   "cell_type": "code",
   "execution_count": 8,
   "metadata": {},
   "outputs": [],
   "source": [
    "def SetMetadata(Scan_Metadata,IMAGE):\n",
    "        \"\"\"Sets a given IMAGE with a given METADATA\"\"\"\n",
    "        IMAGE.SetSpacing(Scan_Metadata[0])\n",
    "        IMAGE.SetOrigin(Scan_Metadata[1])\n",
    "        IMAGE.SetDirection(Scan_Metadata[2])\n",
    "\n",
    "def maskPETCT(PETfilenames, CTfilenames , PETdirPath, CTdirPath):\n",
    "    if(np.size(PETfilenames) == np.size(CTfilenames)):\n",
    "        for i in range(np.size(PETfilenames)):\n",
    "            curr_PET = PETfilenames[i]\n",
    "            curr_CT = CTfilenames[i]\n",
    "            PET_file,_,PET_Meta = LoadImages(ScanType=\"PET\", ScanClass=\"Mask\",\n",
    "                       MskPath=PETdirPath ,ScanName=curr_PET, n_Scans=1, ImgSize=0, ImgDepth=0, Orientation=\"Axial\").LoadScan()\n",
    "            CT_msk_file,_,_ = LoadImages(ScanType=\"CT\", ScanClass=\"Mask\",\n",
    "                       MskPath=CTdirPath,ScanName=curr_CT, n_Scans=1, ImgSize=0, ImgDepth=0, Orientation=\"Axial\").LoadScan()\n",
    "            PET_Msked = CT_msk_file-PET_file\n",
    "            #Added this line due to -1 sometimes poping up. Probably slight mask error\n",
    "            PET_Msked[PET_Msked < 0] = 0\n",
    "            Model_Out = sitk.GetImageFromArray(PET_Msked)\n",
    "            SetMetadata(PET_Meta, Model_Out)\n",
    "            WritePath = join('../../../Masters_Repo/TrainingData/PET/Process/Subtracted_Msks', curr_PET)\n",
    "            sitk.WriteImage(Model_Out,WritePath)\n",
    "    else:\n",
    "        return print(\"Error: Differering number of PET and CT masks. Cannot mask!\")"
   ]
  },
  {
   "cell_type": "code",
   "execution_count": 9,
   "metadata": {},
   "outputs": [
    {
     "output_type": "stream",
     "name": "stdout",
     "text": [
      "Done! Check if masking process was correct..\n"
     ]
    }
   ],
   "source": [
    "maskPETCT(files_PET_Msk,files_CT_Msk, pathPET_Msk ,pathCT_Msk)\n",
    "print(\"Done! Check if masking process was correct..\")"
   ]
  },
  {
   "cell_type": "code",
   "execution_count": null,
   "metadata": {},
   "outputs": [],
   "source": []
  }
 ]
}