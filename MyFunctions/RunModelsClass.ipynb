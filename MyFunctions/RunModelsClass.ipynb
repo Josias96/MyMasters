{
 "cells": [
  {
   "cell_type": "markdown",
   "metadata": {},
   "source": [
    "# RunModels Class"
   ]
  },
  {
   "cell_type": "code",
   "execution_count": null,
   "metadata": {},
   "outputs": [],
   "source": [
    "import os\n",
    "import numpy as np\n",
    "import skimage.transform\n",
    "import SimpleITK as sitk\n",
    "\n",
    "class RunModels:\n",
    "    \"\"\"\n",
    "\n",
    "    \"\"\"\n",
    "    \n",
    "    def __init__(self,OutPath, ScanName, Scan, Scan_Size, Scan_Metadata, Model, Orientation, Threshold = 0.5, Batch_Size = 8, Scans = \"\", Orientations = \"\"):\n",
    "        self.OutPath = OutPath\n",
    "        self.ScanName = ScanName\n",
    "        self.Scan = Scan\n",
    "        self.Scan_Size = Scan_Size\n",
    "        self.Scan_Metadata = Scan_Metadata\n",
    "        self.Model = Model\n",
    "        self.Batch_Size = Batch_Size\n",
    "        self.Orientation =  Orientation\n",
    "        self.Threshold = Threshold\n",
    "        self.Scans = Scans\n",
    "        self.Orientations = Orientations\n",
    "    def SetMetadata(self,IMAGE):\n",
    "        \"\"\"Sets a given IMAGE with a given METADATA\"\"\"\n",
    "        IMAGE.SetSpacing(self.Scan_Metadata[0])\n",
    "        IMAGE.SetOrigin(self.Scan_Metadata[1])\n",
    "        IMAGE.SetDirection(self.Scan_Metadata[2])\n",
    "    \n",
    "    def scanReorientationInverse(self,DATA):\n",
    "        if self.Orientation == \"Axial\":\n",
    "            pass\n",
    "        elif self.Orientation == \"Sagittal\":\n",
    "            DATA = np.swapaxes(DATA,1,0)\n",
    "            DATA = np.swapaxes(DATA,1,2)\n",
    "        elif self.Orientation == \"Coronal\":\n",
    "            DATA = np.swapaxes(DATA,1,0)\n",
    "        return DATA\n",
    "\n",
    "    def runModel(self):\n",
    "        self.Scan = np.expand_dims(self.Scan,axis=3)\n",
    "        Model_Out = self.Model.predict(self.Scan,self.Batch_Size,verbose=1)\n",
    "        Model_Out = np.squeeze(Model_Out)\n",
    "        Model_Out = self.scanReorientationInverse(Model_Out)\n",
    "        Model_Out = skimage.transform.resize(Model_Out,(self.Scan_Size[0],self.Scan_Size[1],self.Scan_Size[1]))\n",
    "        Model_Out[Model_Out>self.Threshold]  = 1\n",
    "        Model_Out[Model_Out<self.Threshold]  = 0\n",
    "        Model_Out[Model_Out==self.Threshold] = 1\n",
    "        Model_Out = sitk.GetImageFromArray(Model_Out)\n",
    "        self.SetMetadata(Model_Out)\n",
    "        WritePath = os.path.join(self.OutPath,self.ScanName+\"_\"+self.Orientation+\".nii.gz\").replace(\"\\\\\",\"/\")\n",
    "        sitk.WriteImage(Model_Out,WritePath)\n",
    "        return print(\"Done! \\t Path: \" + WritePath)\n",
    "\n",
    "    def runModels(self, Limit=False):\n",
    "        OUT = np.zeros((self.Scan_Size[0],self.Scan_Size[1],self.Scan_Size[1]))\n",
    "        i = 0\n",
    "        for model in self.Model:\n",
    "            scan = self.Scans[:,:,:,i]\n",
    "            scan = np.expand_dims(scan,axis=3)\n",
    "            Temp_Out = model.predict(scan,self.Batch_Size,verbose=1)\n",
    "            Temp_Out = np.squeeze(Temp_Out)\n",
    "            self.Orientation = self.Orientations[i]\n",
    "            Temp_Out = self.scanReorientationInverse(Temp_Out)\n",
    "            Temp_Out = skimage.transform.resize(Temp_Out,(self.Scan_Size[0],self.Scan_Size[1],self.Scan_Size[1]))\n",
    "            OUT = OUT + Temp_Out\n",
    "            i = i+1\n",
    "        OUT = OUT / 3 \n",
    "        if Limit:\n",
    "                OUT[OUT>self.Threshold]  = 1\n",
    "                OUT[OUT<self.Threshold]  = 0\n",
    "                OUT[OUT==self.Threshold] = 1\n",
    "        OUT = sitk.GetImageFromArray(OUT)\n",
    "        self.SetMetadata(OUT)\n",
    "        WritePath = os.path.join(self.OutPath,self.ScanName+\".nii.gz\").replace(\"\\\\\",\"/\")\n",
    "        sitk.WriteImage(OUT,WritePath)\n",
    "        return print(\"Done! \\t Path: \" + WritePath)"
   ]
  }
 ],
 "metadata": {
  "kernelspec": {
   "display_name": "Python 3",
   "language": "python",
   "name": "python3"
  },
  "language_info": {
   "codemirror_mode": {
    "name": "ipython",
    "version": 3
   },
   "file_extension": ".py",
   "mimetype": "text/x-python",
   "name": "python",
   "nbconvert_exporter": "python",
   "pygments_lexer": "ipython3",
   "version": "3.7.7"
  },
  "varInspector": {
   "cols": {
    "lenName": 16,
    "lenType": 16,
    "lenVar": 40
   },
   "kernels_config": {
    "python": {
     "delete_cmd_postfix": "",
     "delete_cmd_prefix": "del ",
     "library": "var_list.py",
     "varRefreshCmd": "print(var_dic_list())"
    },
    "r": {
     "delete_cmd_postfix": ") ",
     "delete_cmd_prefix": "rm(",
     "library": "var_list.r",
     "varRefreshCmd": "cat(var_dic_list()) "
    }
   },
   "types_to_exclude": [
    "module",
    "function",
    "builtin_function_or_method",
    "instance",
    "_Feature"
   ],
   "window_display": false
  }
 },
 "nbformat": 4,
 "nbformat_minor": 4
}
